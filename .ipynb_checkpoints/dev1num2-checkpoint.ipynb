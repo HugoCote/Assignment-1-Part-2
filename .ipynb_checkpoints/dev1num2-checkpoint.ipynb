{
 "cells": [
  {
   "cell_type": "code",
   "execution_count": 1,
   "metadata": {},
   "outputs": [],
   "source": [
    "import torch\n",
    "import torchvision\n",
    "import torchvision.transforms as transforms # \n",
    "import torchvision.datasets.mnist as mnist  # to import data\n",
    "\n",
    "# we use torch.cuda.Event(enable_timing=True) to measure time\n",
    "# from timeit import default_timer as timer\n",
    "# import time\n",
    "\n",
    "import torch.optim as optim\n",
    "import torch.nn as nn\n",
    "import torch.nn.functional as F\n",
    "\n",
    "import collections           # for ordered_dictionnary\n",
    "import torch.nn.init as init # to initialize model\n",
    "\n",
    "import copy                  # for copy.deepcopy( ... )\n",
    "\n",
    "import matplotlib.pyplot as plt\n",
    "import numpy as np\n",
    "\n",
    "import collections\n",
    "import torch.nn.init as init"
   ]
  },
  {
   "cell_type": "markdown",
   "metadata": {},
   "source": [
    "# Assigment 1, part 2"
   ]
  },
  {
   "cell_type": "markdown",
   "metadata": {},
   "source": [
    "## import data"
   ]
  },
  {
   "cell_type": "code",
   "execution_count": 2,
   "metadata": {},
   "outputs": [],
   "source": [
    "transform1 = transforms.Compose( [transforms.ToTensor(), transforms.Normalize((0.5, 0.5, 0.5), (0.5, 0.5, 0.5))])\n",
    "transform2 = transforms.Compose( [transforms.ToTensor(), transforms.Normalize( (0.1307,), (0.3081,)) ])\n",
    "transform3 = transforms.Compose( [transforms.ToTensor()] )\n",
    "dl_path  = \"./data_mnist\"\n",
    "\n",
    "trainset = mnist.MNIST( root = dl_path, train=True , download=True, transform = transform3 )\n",
    "testset  = mnist.MNIST( root = dl_path, train=False, download=True, transform = transform3 )"
   ]
  },
  {
   "cell_type": "markdown",
   "metadata": {},
   "source": [
    "display some samples"
   ]
  },
  {
   "cell_type": "code",
   "execution_count": 19,
   "metadata": {},
   "outputs": [
    {
     "data": {
      "image/png": "[encoded data removed]",
      "text/plain": [
       "<Figure size 432x288 with 1 Axes>"
      ]
     },
     "metadata": {
      "needs_background": "light"
     },
     "output_type": "display_data"
    },
    {
     "name": "stdout",
     "output_type": "stream",
     "text": [
      "    7     8     9     1     9     8     2     2\n",
      "img size =  torch.Size([8, 1, 28, 28]) label size =  torch.Size([8])\n",
      "tensor(1.) tensor(0.)\n"
     ]
    }
   ],
   "source": [
    "nb_sample = 8\n",
    "\n",
    "trainloader = torch.utils.data.DataLoader(trainset, batch_size = nb_sample, shuffle=True , num_workers=2)\n",
    "testloader  = torch.utils.data.DataLoader(testset , batch_size = nb_sample, shuffle=False, num_workers=2)\n",
    "\n",
    "# functions to show an image\n",
    "\n",
    "def imshow(img):\n",
    "    # img = ( img + 0.43 ) / 3.3    # to be in the interval [0,1]\n",
    "    npimg = img.numpy()\n",
    "    npimg = (255*npimg).astype(np.uint8) # to be a int in (0,...,255)\n",
    "    plt.imshow(np.transpose(npimg, (1, 2, 0)))\n",
    "    plt.show()\n",
    "\n",
    "# get some random training images\n",
    "dataiter = iter(trainloader)\n",
    "images, labels = dataiter.next()\n",
    "\n",
    "# show images\n",
    "imshow(torchvision.utils.make_grid(images))\n",
    "# print labels\n",
    "print(' '.join('%5s' % labels[j].item() for j in range(nb_sample)))\n",
    "print( \"img size = \" , images.size() , \"label size = \" , labels.size() )\n",
    "print( images[0].max() ,images[0].min() )"
   ]
  },
  {
   "cell_type": "markdown",
   "metadata": {},
   "source": [
    "print size of train-test dataset"
   ]
  },
  {
   "cell_type": "code",
   "execution_count": 146,
   "metadata": {},
   "outputs": [
    {
     "name": "stdout",
     "output_type": "stream",
     "text": [
      "60000\n",
      "10000\n"
     ]
    }
   ],
   "source": [
    "train_dataset_size = trainset.__len__()\n",
    "valid_dataset_size  = testset.__len__()\n",
    "\n",
    "print( training_dataset_size )\n",
    "print( testing_dataset_size )"
   ]
  },
  {
   "cell_type": "markdown",
   "metadata": {},
   "source": [
    "set the device to cuda if possible"
   ]
  },
  {
   "cell_type": "code",
   "execution_count": 5,
   "metadata": {},
   "outputs": [
    {
     "name": "stdout",
     "output_type": "stream",
     "text": [
      "cuda:0\n"
     ]
    }
   ],
   "source": [
    "device = torch.device(\"cuda:0\" if torch.cuda.is_available() else \"cpu\")\n",
    "print(device)"
   ]
  },
  {
   "cell_type": "markdown",
   "metadata": {},
   "source": [
    "## Define some modules"
   ]
  },
  {
   "cell_type": "markdown",
   "metadata": {},
   "source": [
    "### the MPL"
   ]
  },
  {
   "cell_type": "code",
   "execution_count": 192,
   "metadata": {},
   "outputs": [],
   "source": [
    "class MLP(nn.Module):\n",
    "    \"\"\"\n",
    "    MLP with 2 hidden layer\n",
    "    \"\"\"\n",
    "    def __init__(self, h1=620,h2=620 ):\n",
    "        super(MLP, self).__init__()\n",
    "        self.fc1 = nn.Linear(784, h1)\n",
    "        self.fc2 = nn.Linear(h1 , h2)\n",
    "        self.fc3 = nn.Linear(h2 , 10)\n",
    "\n",
    "    def forward(self, x):\n",
    "        x = x.view( -1, 28 * 28 )\n",
    "        x = F.relu(self.fc1(x))\n",
    "        x = F.relu(self.fc2(x))\n",
    "        x = F.softmax(self.fc3(x), dim=-1)\n",
    "        return x"
   ]
  },
  {
   "cell_type": "code",
   "execution_count": 193,
   "metadata": {},
   "outputs": [],
   "source": [
    "class MLP2(nn.Module):\n",
    "    \"\"\"\n",
    "    deep MLP with 6 hidden layer\n",
    "    \"\"\"\n",
    "    def __init__(self, h=[512,512,256,128,128,128,128]):\n",
    "        super(MLP2, self).__init__()\n",
    "        self.lin = nn.Sequential(\n",
    "            nn.Linear(1*28*28, h[0]),\n",
    "            nn.ReLU(),\n",
    "            nn.Linear(h[0], h[1]),\n",
    "            nn.ReLU(),\n",
    "            nn.Linear(h[1], h[2]),\n",
    "            nn.ReLU(),\n",
    "            nn.Linear(h[2], h[3]),\n",
    "            nn.ReLU(),\n",
    "            nn.Linear(h[3], h[4]),\n",
    "            nn.ReLU(),\n",
    "            nn.Linear(h[4], h[5]),\n",
    "            nn.ReLU(),\n",
    "            nn.Linear(h[5], h[6]),\n",
    "            nn.ReLU()\n",
    "        )\n",
    "\n",
    "    def forward(self, x):\n",
    "        x = x.view( -1, 28 * 28 )\n",
    "        x = self.lin(x)\n",
    "        x = F.softmax(x, dim=-1)\n",
    "        return x"
   ]
  },
  {
   "cell_type": "code",
   "execution_count": 7,
   "metadata": {},
   "outputs": [],
   "source": [
    "# fan_in, fan_out = _calculate_fan_in_and_fan_out(tensor)\n",
    "# print( nn.init._calculate_fan_in_and_fan_out(net.state_dict()[\"fc1.weight\"]) )\n",
    "# print( net.state_dict()[\"fc1.weight\"].size() )"
   ]
  },
  {
   "cell_type": "markdown",
   "metadata": {},
   "source": [
    "### The CNN"
   ]
  },
  {
   "cell_type": "markdown",
   "metadata": {},
   "source": [
    "architecture taken from :\n",
    "    https://github.com/MaximumEntropy/welcome_tutorials/tree/pytorch/pytorch"
   ]
  },
  {
   "cell_type": "code",
   "execution_count": 22,
   "metadata": {},
   "outputs": [],
   "source": [
    "class Classifier(nn.Module):\n",
    "    \"\"\"Convnet Classifier\"\"\"\n",
    "    def __init__(self, kernel_sz = 3, regression = 512, sigmoid = False ):\n",
    "        \n",
    "        self.sigmoid = sigmoid\n",
    "        if kernel_sz % 2 == 0 :\n",
    "            raise ValueError(\"kernel size must be odd\")\n",
    "        pad = kernel_sz // 2 \n",
    "        \n",
    "        super(Classifier, self).__init__()\n",
    "        self.conv = nn.Sequential(\n",
    "            # Layer 1, input size = 28^2\n",
    "            nn.Conv2d(in_channels=1, out_channels=16, kernel_size=( kernel_sz , kernel_sz ), padding=pad ),\n",
    "            nn.ReLU(),\n",
    "            # nn.MaxPool2d(kernel_size=(2, 2), stride=2),\n",
    "            \n",
    "            # Layer 2, input size = 28^2\n",
    "            nn.Conv2d(in_channels=16, out_channels=32, kernel_size=( kernel_sz , kernel_sz), padding=pad),\n",
    "            nn.ReLU(),\n",
    "            # nn.MaxPool2d(kernel_size=(2, 2), stride=2),\n",
    "            \n",
    "            # Layer 3, input size = 28^2\n",
    "            nn.Conv2d(in_channels=32, out_channels=64, kernel_size=( kernel_sz , kernel_sz), padding=pad),\n",
    "            nn.ReLU(),\n",
    "            nn.MaxPool2d(kernel_size=(2, 2), stride=2),\n",
    "            \n",
    "            # Layer 4, input size = 14^2\n",
    "            nn.Conv2d(in_channels=64, out_channels=128, kernel_size=( 3 , 3 ), padding = 0, stride = 3),\n",
    "            nn.ReLU(),\n",
    "            # nn.MaxPool2d(kernel_size=(2, 2), stride=2),\n",
    "            \n",
    "            # Layer 5, input size = 4^2\n",
    "            nn.Conv2d(in_channels=128, out_channels=256, kernel_size=( 2 , 2 ), padding = 0, stride = 2),\n",
    "            nn.ReLU(),\n",
    "            # nn.MaxPool2d(kernel_size=(2, 2))\n",
    "        )\n",
    "        # Regression\n",
    "        self.clf1 = nn.Linear(2*2*256, regression)\n",
    "        self.clf2 = nn.Linear(regression, 10)\n",
    "\n",
    "    def forward(self, x):\n",
    "        x = self.conv(x)\n",
    "        x = x.view(x.size()[0],-1)\n",
    "        if self.sigmoid :\n",
    "            x = torch.tanh(x)\n",
    "        x = self.clf1(x)\n",
    "        x = self.clf2(x)\n",
    "        return x"
   ]
  },
  {
   "cell_type": "code",
   "execution_count": 62,
   "metadata": {},
   "outputs": [],
   "source": [
    "class Classifier2(nn.Module):\n",
    "    \"\"\"Convnet Classifier\"\"\"\n",
    "    def __init__(self, kernel_sz1=11 , kernel_sz2=11, regression = 768, sigmoid=True ):\n",
    "        \n",
    "        self.sigmoid = sigmoid\n",
    "        if kernel_sz1 % 2 == 0 or kernel_sz2 % 2 == 0 :\n",
    "            raise ValueError(\"kernel size must be odd\")\n",
    "        pad1 = kernel_sz1 // 2 \n",
    "        pad2 = kernel_sz2 // 2 \n",
    "        \n",
    "        super(Classifier2, self).__init__()\n",
    "        self.conv = nn.Sequential(\n",
    "            # Layer 1, input size = 28^2\n",
    "            nn.Conv2d(in_channels=1, out_channels=16, kernel_size=( kernel_sz1 , kernel_sz1 ), padding=pad1 ),\n",
    "            nn.ReLU(),\n",
    "            # nn.MaxPool2d(kernel_size=(2, 2), stride=2),\n",
    "            \n",
    "            # Layer 2, input size = 28^2\n",
    "            nn.Conv2d(in_channels=16, out_channels=32, kernel_size=( kernel_sz2 , kernel_sz2), padding=pad2),\n",
    "            nn.ReLU(),\n",
    "            nn.MaxPool2d(kernel_size=(2, 2), stride=2),\n",
    "            \n",
    "            # Layer 3, input size = 14^2, output size 4^2\n",
    "            nn.Conv2d(in_channels=32, out_channels=64, kernel_size=( 3 , 3 ), padding = 0, stride = 3),\n",
    "            nn.ReLU(),\n",
    "            # nn.MaxPool2d(kernel_size=(2, 2), stride=2),     \n",
    "        )\n",
    "        \n",
    "        # Regression\n",
    "        self.clf1 = nn.Linear(4*4*64, regression)\n",
    "        self.clf2 = nn.Linear(regression, 10)\n",
    "\n",
    "    def forward(self, x):\n",
    "        x = self.conv(x)\n",
    "        x = x.view(x.size()[0],-1)\n",
    "        if self.sigmoid :\n",
    "            x = torch.tanh(x)\n",
    "        x = self.clf1(x)\n",
    "        x = self.clf2(x)\n",
    "        return x"
   ]
  },
  {
   "cell_type": "markdown",
   "metadata": {},
   "source": [
    "Print the number of parameters in each models and display the computation "
   ]
  },
  {
   "cell_type": "code",
   "execution_count": 179,
   "metadata": {},
   "outputs": [
    {
     "name": "stdout",
     "output_type": "stream",
     "text": [
      "number of params =  877930  =   \n",
      " (fc1.weight)             620*784\n",
      " (fc1.bias)             + 620\n",
      " (fc2.weight)           + 620*620\n",
      " (fc2.bias)             + 620\n",
      " (fc3.weight)           + 10*620\n",
      " (fc3.bias)             + 10\n",
      "number of params =  878336  =   \n",
      " (lin.0.weight)           512*784\n",
      " (lin.0.bias)           + 512\n",
      " (lin.2.weight)         + 512*512\n",
      " (lin.2.bias)           + 512\n",
      " (lin.4.weight)         + 256*512\n",
      " (lin.4.bias)           + 256\n",
      " (lin.6.weight)         + 128*256\n",
      " (lin.6.bias)           + 128\n",
      " (lin.8.weight)         + 128*128\n",
      " (lin.8.bias)           + 128\n",
      " (lin.10.weight)        + 128*128\n",
      " (lin.10.bias)          + 128\n",
      " (lin.12.weight)        + 128*128\n",
      " (lin.12.bias)          + 128\n",
      "number of params =  877182  =   \n",
      " (conv.0.weight)          16*1*11*11\n",
      " (conv.0.bias)          + 16\n",
      " (conv.2.weight)        + 32*16*11*11\n",
      " (conv.2.bias)          + 32\n",
      " (conv.4.weight)        + 64*32*11*11\n",
      " (conv.4.bias)          + 64\n",
      " (conv.7.weight)        + 128*64*3*3\n",
      " (conv.7.bias)          + 128\n",
      " (conv.9.weight)        + 256*128*2*2\n",
      " (conv.9.bias)          + 256\n",
      " (clf1.weight)          + 348*1024\n",
      " (clf1.bias)            + 348\n",
      " (clf2.weight)          + 10*348\n",
      " (clf2.bias)            + 10\n",
      "number of params =  877322  =   \n",
      " (conv.0.weight)          16*1*11*11\n",
      " (conv.0.bias)          + 16\n",
      " (conv.2.weight)        + 32*16*11*11\n",
      " (conv.2.bias)          + 32\n",
      " (conv.5.weight)        + 64*32*3*3\n",
      " (conv.5.bias)          + 64\n",
      " (clf1.weight)          + 768*1024\n",
      " (clf1.bias)            + 768\n",
      " (clf2.weight)          + 10*768\n",
      " (clf2.bias)            + 10\n"
     ]
    }
   ],
   "source": [
    "def number_of_params( net , display_comp = False ) :\n",
    "    nb_param  = 0\n",
    "    depth     = 0 # count the number of different bias\n",
    "    param_lst = \" \"\n",
    "    for i, (key, value) in enumerate( net.state_dict().items() ) :\n",
    "        if key.endswith(\"bias\") :\n",
    "            depth = depth + 1\n",
    "            \n",
    "        if i == 0 :\n",
    "            param_lst = param_lst + \"\\n ({:<20}    \".format( key + \")\" )\n",
    "        else :\n",
    "            param_lst = param_lst + \"\\n ({:<20}  + \".format( key + \")\" )\n",
    "            \n",
    "            \n",
    "        nb_param_tmp = 1\n",
    "        \n",
    "        for j , x in enumerate(value.size()) :\n",
    "            if j == 0 :\n",
    "                param_lst = param_lst + \"{xx}\".format( xx = x ) \n",
    "            else :\n",
    "                param_lst = param_lst + \"*{xx}\".format( xx = x ) \n",
    "                               \n",
    "            nb_param_tmp = nb_param_tmp * x\n",
    "                   \n",
    "        nb_param = nb_param + nb_param_tmp\n",
    "        \n",
    "    if display_comp: \n",
    "        print( \"number of params = \" , nb_param , \" = \", param_lst  )\n",
    "        \n",
    "    return nb_param, depth\n",
    "\n",
    "mytestnet1 = MLP(h1=620,h2=620)\n",
    "mytestnet2 = MLP2(h=[512,512,256,128,128,128,128])\n",
    "mytestnet3 = Classifier( kernel_sz=11 , regression = 348, sigmoid=True )\n",
    "mytestnet4 = Classifier2( kernel_sz1=11 , kernel_sz2=11, regression = 768, sigmoid=False )\n",
    "_ , _ = number_of_params( mytestnet1 , display_comp = True )\n",
    "_ , _ = number_of_params( mytestnet2 , display_comp = True )\n",
    "_ , _ = number_of_params( mytestnet3 , display_comp = True )\n",
    "_ , _ = number_of_params( mytestnet4 , display_comp = True )\n",
    "del mytestnet1\n",
    "del mytestnet2\n",
    "del mytestnet3\n",
    "del mytestnet4"
   ]
  },
  {
   "cell_type": "code",
   "execution_count": 65,
   "metadata": {},
   "outputs": [
    {
     "name": "stdout",
     "output_type": "stream",
     "text": [
      "torch.Size([512, 10]) torch.Size([512])\n",
      "tensor(2.3029, device='cuda:0')\n"
     ]
    }
   ],
   "source": [
    "cudanet = Classifier2( kernel_sz1=11 , kernel_sz2=11, regression = 768, sigmoid=False )\n",
    "_ = cudanet.to(device)\n",
    "nb_sample = 8*64\n",
    "train_loader = torch.utils.data.DataLoader(trainset, batch_size = nb_sample, shuffle=True , num_workers=2)\n",
    "valid_loader  = torch.utils.data.DataLoader(testset , batch_size = nb_sample, shuffle=False, num_workers=2)\n",
    "criterion = nn.CrossEntropyLoss()\n",
    "optimizer = optim.SGD(cudanet.parameters(), lr=0.00075, momentum=0, weight_decay=0)\n",
    "want_to_test = False\n",
    "want_to_test = True\n",
    "if want_to_test:\n",
    "    with torch.no_grad() :\n",
    "        for i, data in enumerate(train_loader, 0):\n",
    "            # get the inputs\n",
    "            inputs, labels = data\n",
    "            # if using BCE\n",
    "            # labels = labels.float()\n",
    "            inputs, labels = inputs.to(device), labels.to(device)\n",
    "            optimizer.zero_grad()\n",
    "            outputs = cudanet(inputs)\n",
    "            loss = criterion(outputs, labels)\n",
    "            \n",
    "            print( outputs.size() , labels.size() )\n",
    "            print( loss )\n",
    "\n",
    "            break"
   ]
  },
  {
   "cell_type": "markdown",
   "metadata": {},
   "source": [
    "### Define some initialization methods"
   ]
  },
  {
   "cell_type": "code",
   "execution_count": 66,
   "metadata": {},
   "outputs": [],
   "source": [
    "def glorot_init ( layer ) :\n",
    "    \"\"\"\n",
    "    Weiths are generated from U[-d,d] where d = sqrt(6/(fan_in + fan_out)), biases are set to zero\n",
    "    \"\"\"\n",
    "    if type(layer) == nn.Linear or type(layer) == nn.Conv2d :\n",
    "        init.xavier_uniform_( layer.weight , gain=1 )\n",
    "        layer.bias.data.fill_(0.0)\n",
    "        \n",
    "def zero_init ( layer ) :\n",
    "    \"\"\"Everything is set to zero\"\"\"\n",
    "    if type(layer) == nn.Linear or type(layer) == nn.Conv2d :\n",
    "        layer.weight.data.fill_(0.0)\n",
    "        layer.bias.data.fill_(0.0)\n",
    "        \n",
    "def norm_init ( layer ) :\n",
    "    \"\"\"Weiths are generated from std normal, biases are set to zero\"\"\"\n",
    "    if type(layer) == nn.Linear or type(layer) == nn.Conv2d :\n",
    "        init.normal_(layer.weight, mean=0, std=1)\n",
    "        layer.bias.data.fill_(0.0)"
   ]
  },
  {
   "cell_type": "code",
   "execution_count": 67,
   "metadata": {},
   "outputs": [],
   "source": [
    "# net = MLP(500,500)\n",
    "# print( net.state_dict()[\"fc1.weight\"] )\n",
    "# print( net.state_dict()[\"fc1.bias\"] )\n",
    "# net.apply( one_step_Glorot_init )\n",
    "# print( net.state_dict()[\"fc1.weight\"])\n",
    "# print( net.state_dict()[\"fc1.bias\"] )"
   ]
  },
  {
   "cell_type": "code",
   "execution_count": 180,
   "metadata": {},
   "outputs": [],
   "source": [
    "if True :\n",
    "    del cudanet"
   ]
  },
  {
   "cell_type": "code",
   "execution_count": 185,
   "metadata": {},
   "outputs": [],
   "source": [
    "# cudanet = Classifier2( kernel_sz1=11 , kernel_sz2=11, regression = 768, sigmoid=True )\n",
    "cudanet = MLP2()\n",
    "\n",
    "cudanet.apply( glorot_init )\n",
    "# cudanet.apply( zero_init )\n",
    "# cudanet.apply( norm_init )\n",
    "\n",
    "# cudanet.load_state_dict(torch.load(path), strict=False)\n",
    "_ = cudanet.to(device)"
   ]
  },
  {
   "cell_type": "code",
   "execution_count": 186,
   "metadata": {},
   "outputs": [],
   "source": [
    "criterion = nn.CrossEntropyLoss()\n",
    "lr = 0.055\n",
    "optimizer = optim.SGD(cudanet.parameters(), lr=lr, momentum=0.0, weight_decay=0)\n",
    "nb_epoch  = 10"
   ]
  },
  {
   "cell_type": "code",
   "execution_count": 187,
   "metadata": {},
   "outputs": [
    {
     "name": "stdout",
     "output_type": "stream",
     "text": [
      "epoch = 1, loss = 0.03792456\n",
      "epoch = 2, loss = 0.03791927\n",
      "epoch = 3, loss = 0.03784643\n",
      "epoch = 4, loss = 0.03673426\n",
      "epoch = 5, loss = 0.03639355\n",
      "epoch = 6, loss = 0.03638820\n",
      "epoch = 7, loss = 0.03638661\n",
      "epoch = 8, loss = 0.03638508\n",
      "epoch = 9, loss = 0.03638400\n",
      "epoch = 10, loss = 0.03638359\n",
      "Finished Training\n",
      "time required =  99.038859375  s \n"
     ]
    }
   ],
   "source": [
    "training_batch_size = 2*64\n",
    "trainloader = torch.utils.data.DataLoader(trainset, batch_size=training_batch_size,shuffle=True, num_workers=2)\n",
    "state_dict_list = list()\n",
    "\n",
    "torch.cuda.synchronize()\n",
    "\n",
    "start = torch.cuda.Event(enable_timing=True)\n",
    "end   = torch.cuda.Event(enable_timing=True)\n",
    "start.record()\n",
    "\n",
    "for epoch in range( nb_epoch ):  # loop over the dataset multiple times\n",
    "    \n",
    "    # if epoch == 5 :\n",
    "    #   optimizer = optim.SGD(cudanet.parameters(), lr=0.05, momentum=0.0, weight_decay=0) \n",
    "        \n",
    "    running_loss = 0.0\n",
    "    for i, data in enumerate(trainloader, 0):\n",
    "        # get the inputs\n",
    "        inputs, labels = data\n",
    "        inputs, labels = inputs.to(device), labels.to(device)\n",
    "        \n",
    "        # zero the parameter gradients\n",
    "        optimizer.zero_grad()\n",
    "\n",
    "        # forward + backward + optimize\n",
    "        outputs = cudanet(inputs)\n",
    "        # if i == 0 : print( outputs )\n",
    "        loss = criterion(outputs, labels)\n",
    "        loss.backward()\n",
    "        optimizer.step()\n",
    "\n",
    "        # print statistics\n",
    "        running_loss += loss.item()\n",
    "    else : # print every epoch\n",
    "        print('epoch = %d, loss = %.8f' % (epoch + 1, running_loss / train_dataset_size )) # nb of sample per mini-batch\n",
    "        running_loss = 0.0\n",
    "        torch.cuda.synchronize()\n",
    "        tmp_state_dict = {}\n",
    "        for k, v in cudanet.state_dict().items():\n",
    "            tmp_state_dict[k] = v.cpu()\n",
    "        state_dict_list.append( tmp_state_dict )\n",
    "        torch.cuda.synchronize()\n",
    "        \n",
    "else : \n",
    "    print('Finished Training')\n",
    "    \n",
    "end.record()\n",
    "torch.cuda.synchronize()\n",
    "print( \"time required = \" , start.elapsed_time(end)*0.001 , \" s \")"
   ]
  },
  {
   "cell_type": "markdown",
   "metadata": {},
   "source": [
    "test accuracy of net in its current state on the validation set"
   ]
  },
  {
   "cell_type": "code",
   "execution_count": 188,
   "metadata": {},
   "outputs": [
    {
     "name": "stdout",
     "output_type": "stream",
     "text": [
      "Accuracy of the network on the 10000 test images: 21.35 %\n"
     ]
    }
   ],
   "source": [
    "valid_loader = torch.utils.data.DataLoader(testset, batch_size=8*64,shuffle=False, num_workers=2)\n",
    "correct = torch.tensor([0])\n",
    "total = torch.tensor([0])\n",
    "\n",
    "correct, total = correct.to(device) , total.to(device) \n",
    "with torch.no_grad():\n",
    "    for data in valid_loader:\n",
    "        images, labels = data\n",
    "        images, labels = images.to(device), labels.to(device)\n",
    "        outputs = cudanet(images)\n",
    "        _, predicted = torch.max(outputs.data, 1)\n",
    "        total += labels.size(0)\n",
    "        # print(correct)\n",
    "        # print(predicted.size())\n",
    "        # print(labels.size())\n",
    "        # break\n",
    "        correct += (predicted == labels).sum()\n",
    "\n",
    "print('Accuracy of the network on the' , valid_dataset_size , 'test images: %.2f %%' \n",
    "          % ( (100 * correct.double()) / total.double()  )\n",
    "     ) "
   ]
  },
  {
   "cell_type": "markdown",
   "metadata": {},
   "source": [
    "Display the current state of the net"
   ]
  },
  {
   "cell_type": "code",
   "execution_count": 77,
   "metadata": {},
   "outputs": [],
   "source": [
    "if False :\n",
    "    for key, value in cudanet.state_dict().items() :\n",
    "        pass\n",
    "        print( key , \" = \\n\" , value , end = \"\\n\") "
   ]
  },
  {
   "cell_type": "markdown",
   "metadata": {},
   "source": [
    "training accuracy"
   ]
  },
  {
   "cell_type": "code",
   "execution_count": 189,
   "metadata": {},
   "outputs": [
    {
     "name": "stdout",
     "output_type": "stream",
     "text": [
      "Accuracy of the network on the 60000 train images: 21.06 %\n"
     ]
    }
   ],
   "source": [
    "batch_size=16*64\n",
    "train_loader = torch.utils.data.DataLoader(trainset, batch_size=batch_size,shuffle=False, num_workers=2)\n",
    "\n",
    "correct = torch.tensor([0])\n",
    "total = torch.tensor([0])\n",
    "\n",
    "correct, total = correct.to(device) , total.to(device) \n",
    "with torch.no_grad():\n",
    "    for data in train_loader:\n",
    "        images, labels = data\n",
    "        images, labels = images.to(device), labels.to(device)\n",
    "        outputs = cudanet(images)\n",
    "        _, predicted = torch.max(outputs.data, 1)\n",
    "        total += labels.size(0)\n",
    "        # print(correct)\n",
    "        # print(predicted)\n",
    "        # print(labels)\n",
    "        correct += (predicted == labels).sum()\n",
    "\n",
    "print('Accuracy of the network on the' , training_dataset_size  , 'train images: %.2f %%' \n",
    "          % ( (100.0 * correct.double() ) / total.double() )\n",
    "     )"
   ]
  },
  {
   "cell_type": "markdown",
   "metadata": {},
   "source": [
    "compare accuracy across epoch on training-test dataset"
   ]
  },
  {
   "cell_type": "code",
   "execution_count": 190,
   "metadata": {},
   "outputs": [
    {
     "name": "stdout",
     "output_type": "stream",
     "text": [
      "epoch   1 : Accuracy of the network on the test images: 9.92 % , training images 9.80 % \n",
      "epoch   2 : Accuracy of the network on the test images: 10.09 % , training images 9.91 % \n",
      "epoch   3 : Accuracy of the network on the test images: 10.09 % , training images 9.91 % \n",
      "epoch   4 : Accuracy of the network on the test images: 21.33 % , training images 20.96 % \n",
      "epoch   5 : Accuracy of the network on the test images: 21.34 % , training images 21.01 % \n",
      "epoch   6 : Accuracy of the network on the test images: 21.34 % , training images 21.03 % \n",
      "epoch   7 : Accuracy of the network on the test images: 21.34 % , training images 21.04 % \n",
      "epoch   8 : Accuracy of the network on the test images: 21.35 % , training images 21.04 % \n",
      "epoch   9 : Accuracy of the network on the test images: 21.34 % , training images 21.06 % \n",
      "epoch  10 : Accuracy of the network on the test images: 21.35 % , training images 21.06 % \n"
     ]
    }
   ],
   "source": [
    "batch_size = 8*64\n",
    "train_loader = torch.utils.data.DataLoader(trainset, batch_size = batch_size, shuffle=False , num_workers=2)\n",
    "valid_loader = torch.utils.data.DataLoader(testset , batch_size = batch_size, shuffle=False , num_workers=2)\n",
    "\n",
    "accuracy = torch.ones(nb_epoch,2, dtype=torch.float) * 100\n",
    "for epoch , tmp_state_dict in enumerate(state_dict_list,0) :\n",
    "    if epoch % 1 != 0 :\n",
    "        continue\n",
    "    \n",
    "    # net_model = cudanet.__class__\n",
    "    # cudaTOCPUnet = net_model(h1,h2)\n",
    "    # cudaTOCPUnet = Classifier( kernel_sz = 9 )\n",
    "    cudaTOCPUnet = copy.deepcopy( cudanet )\n",
    "    cudaTOCPUnet.load_state_dict( tmp_state_dict )\n",
    "    cuda_test_net = copy.deepcopy(cudaTOCPUnet).to(device)\n",
    "    \n",
    "    correct = torch.tensor([0,0])\n",
    "    total   = torch.tensor([0,0])\n",
    "    \n",
    "    correct, total = correct.to(device) , total.to(device) \n",
    "        \n",
    "    loader_list = [ valid_loader , train_loader ]\n",
    "    with torch.no_grad():\n",
    "        for i, loader in enumerate(loader_list,0) :\n",
    "            for data in loader:\n",
    "                images, labels = data\n",
    "                images, labels = images.to(device), labels.to(device)\n",
    "                outputs = cuda_test_net(images)\n",
    "                _, predicted = torch.max(outputs.data, 1)\n",
    "                total[i] += labels.size(0)\n",
    "                correct[i] += (predicted == labels).sum()\n",
    "    \n",
    "    accuracy[epoch,:] = accuracy[epoch,:] * correct.type(torch.FloatTensor) / total.type(torch.FloatTensor)\n",
    "    \n",
    "    print('epoch %3d : Accuracy of the network on the test images: %.2f %% , training images %.2f %% ' \n",
    "              % ( epoch+1, accuracy[epoch,0] , accuracy[epoch,1] )\n",
    "         )"
   ]
  },
  {
   "cell_type": "markdown",
   "metadata": {},
   "source": [
    "Plot the train and validation errors for each of the model"
   ]
  },
  {
   "cell_type": "code",
   "execution_count": 197,
   "metadata": {},
   "outputs": [
    {
     "data": {
      "image/png": "[encoded data removed]",
      "text/plain": [
       "<Figure size 1152x720 with 1 Axes>"
      ]
     },
     "metadata": {
      "needs_background": "light"
     },
     "output_type": "display_data"
    }
   ],
   "source": [
    "from matplotlib.pyplot import figure # to plot\n",
    "import datetime                      # to include date in log file name\n",
    "# import warnings\n",
    "# warnings.filterwarnings('ignore')\n",
    "#save it\n",
    "want_log = True\n",
    "path_to_save = \"./log/\" + datetime.datetime.now().strftime(\"%Y%B%d_%p%IH%MM\")\n",
    "\n",
    "# data to plot\n",
    "n_groups = nb_epoch \n",
    "accuracy_toplot = accuracy.numpy()\n",
    "\n",
    "tests_accuracy = accuracy_toplot[:,0]\n",
    "train_accuracy = accuracy_toplot[:,1]\n",
    "\n",
    "#\n",
    "plt.rcParams.update({'font.size': 16})\n",
    "plt.rcParams[\"figure.figsize\"] = (16 ,10)\n",
    "# create plot\n",
    "fig, ax = plt.subplots()\n",
    "index = np.arange(n_groups)\n",
    "bar_width = 0.3\n",
    "opacity = 0.8\n",
    " \n",
    "rects1 = plt.bar(index, tests_accuracy, bar_width,\n",
    "                 alpha=opacity,\n",
    "                 color='blue',\n",
    "                 label='Test set')\n",
    " \n",
    "rects2 = plt.bar(index + bar_width, train_accuracy, bar_width,\n",
    "                 alpha=opacity,\n",
    "                 color='r',\n",
    "                 label='Training set')\n",
    "\n",
    "eps = 3 \n",
    "top = min(int( np.ceil(accuracy_toplot.max() + eps)) , 100)\n",
    "bot = max(int(np.floor(accuracy_toplot.min() - eps)) , 0  )\n",
    "\n",
    "\n",
    "plt.ylim(bot, top)     # set the ylim to bottom, top\n",
    "plt.axhline(y=97,color=\"black\")\n",
    "\n",
    "plt.xlabel('Epoch')\n",
    "plt.ylabel('Accuracy')\n",
    "plt.title('Comparison between training set and test set accuracy \\nduring the training phase')\n",
    "xjump = 1\n",
    "plt.xticks( np.arange(0, n_groups+1, step=xjump) , range(0,n_groups+2,xjump) )\n",
    "plt.yticks( range(bot,top+1,1) )\n",
    "plt.legend()\n",
    "\n",
    "# plt.tight_layout()\n",
    "if want_log :\n",
    "    plt.savefig(path_to_save + \".png\")\n",
    "    with open(path_to_save + \".txt\",'w+') as f:\n",
    "        nb_params, depth = number_of_params(cudanet)\n",
    "        line = \"{name} : number of parameters = {n}, deptp = {d}. , lr = {lr}, batch size = {bs}\".format(name = cudanet.__doc__, n = nb_params, d=depth, lr=lr, bs = batch_size)\n",
    "        f.write(line)\n",
    "plt.show()"
   ]
  },
  {
   "cell_type": "code",
   "execution_count": null,
   "metadata": {},
   "outputs": [],
   "source": [
    "from matplotlib.pyplot import figure\n",
    "# import warnings\n",
    "# warnings.filterwarnings('ignore')\n",
    "\n",
    "# data to plot\n",
    "n_groups = nb_epoch\n",
    "accuracy_toplot = accuracy.numpy()\n",
    "\n",
    "tests_accuracy = accuracy_toplot[:,0]\n",
    "train_accuracy = accuracy_toplot[:,1]\n",
    "\n",
    "#\n",
    "plt.rcParams.update({'font.size': 16})\n",
    "plt.rcParams[\"figure.figsize\"] = (12 ,8)\n",
    "# create plot\n",
    "fig, ax = plt.subplots()\n",
    "index = np.arange(n_groups)\n",
    "bar_width = 0.3\n",
    "opacity = 0.8\n",
    " \n",
    "rects1 = plt.bar(index, tests_accuracy, bar_width,\n",
    "                 alpha=opacity,\n",
    "                 color='g',\n",
    "                 label='Test set')\n",
    " \n",
    "rects2 = plt.bar(index + bar_width, train_accuracy, bar_width,\n",
    "                 alpha=opacity,\n",
    "                 color='r',\n",
    "                 label='Training set')\n",
    "\n",
    "eps = 3 \n",
    "top = min(int( np.ceil(accuracy_toplot.max() + eps)) , 100)\n",
    "bot = max(int(np.floor(accuracy_toplot.min() - eps)) , 0  )\n",
    "\n",
    "\n",
    "plt.ylim(bot, top)     # set the ylim to bottom, top\n",
    "plt.axhline(y=97,color=\"black\")\n",
    "\n",
    "plt.xlabel('Epoch')\n",
    "plt.ylabel('Accuracy')\n",
    "plt.title('Comparison between training set and test set accuracy \\nduring the training phase')\n",
    "plt.xticks(index + bar_width, range(1,11,1) )\n",
    "plt.yticks( range(bot,top+1,1) )\n",
    "plt.legend()\n",
    "\n",
    "# plt.tight_layout()\n",
    "plt.show()"
   ]
  },
  {
   "cell_type": "markdown",
   "metadata": {},
   "source": [
    "## Some additionnal stuff"
   ]
  },
  {
   "cell_type": "markdown",
   "metadata": {},
   "source": [
    "##### 3-best accuracy : having the right label in the net's top 3 answers count as a good answer"
   ]
  },
  {
   "cell_type": "code",
   "execution_count": 75,
   "metadata": {},
   "outputs": [
    {
     "name": "stdout",
     "output_type": "stream",
     "text": [
      "3-best Accuracy of the network on the  10000  test images: 99.510 %\n"
     ]
    }
   ],
   "source": [
    "correct = torch.tensor([0])\n",
    "total = torch.tensor([0])\n",
    "\n",
    "correct, total = correct.to(device) , total.to(device) \n",
    "with torch.no_grad():\n",
    "    for data in testloader:\n",
    "        images, labels = data\n",
    "        images, labels = images.to(device), labels.to(device)\n",
    "        outputs = cudanet(images)\n",
    "        predicted = torch.topk(outputs.data, 3)[1]\n",
    "        total += labels.size(0)\n",
    "        correct += (predicted[:,0] == labels).sum()\n",
    "        correct += (predicted[:,1] == labels).sum()\n",
    "        correct += (predicted[:,2] == labels).sum()\n",
    "\n",
    "print('3-best Accuracy of the network on the ' , testing_dataset_size , ' test images: %.3f %%' \n",
    "          % ( 100 * correct.double() / total.double())\n",
    "     )"
   ]
  },
  {
   "cell_type": "markdown",
   "metadata": {},
   "source": [
    "#### print some test sample that the net misclassifies"
   ]
  },
  {
   "cell_type": "code",
   "execution_count": 97,
   "metadata": {},
   "outputs": [
    {
     "data": {
      "image/png": "[encoded data removed]",
      "text/plain": [
       "<Figure size 432x288 with 1 Axes>"
      ]
     },
     "metadata": {
      "needs_background": "light"
     },
     "output_type": "display_data"
    },
    {
     "name": "stdout",
     "output_type": "stream",
     "text": [
      "this should be :   9, 6, 7, 6\n",
      "net choice # 1 :   4, 0, 1, 8\n",
      "net choice # 2 :   9, 8, 7, 6\n",
      "net choice # 3 :   8, 6, 2, 4\n"
     ]
    }
   ],
   "source": [
    "valid_loader  = torch.utils.data.DataLoader(testset , batch_size = 4*64, shuffle=True, num_workers=2)\n",
    "nb_error = 4\n",
    "nb_of_error = torch.tensor([nb_error])\n",
    "j = torch.tensor([0])\n",
    "errorimages  = torch.empty(nb_error,1,28,28)\n",
    "errorlabels  = torch.empty(nb_error)\n",
    "erroroutputs = torch.empty(nb_error, 10)\n",
    "for images, labels in valid_loader :\n",
    "    images, labels = images.to(device), labels.to(device)\n",
    "    outputs = cudanet(images)\n",
    "    _, predicted = torch.max(outputs.data, 1)\n",
    "    if not (predicted == labels).sum() == labels.size()[0] :\n",
    "        comparison = (predicted == labels)\n",
    "        for i,b in enumerate( comparison ) :\n",
    "            if b == 0 :\n",
    "                errorimages[j,:,:,:] = copy.deepcopy(images[i,:,:,:]).cpu()\n",
    "                errorlabels[j] = labels[i].clone().detach().requires_grad_(False).cpu()\n",
    "                erroroutputs[j,:] = outputs[i,:].clone().detach().requires_grad_(False).cpu()\n",
    "                j = j + 1\n",
    "                if j.item() >= nb_of_error.item() :\n",
    "                    break\n",
    "        else :\n",
    "            continue\n",
    "        break\n",
    "        \n",
    "if j.item() == 0 :\n",
    "    print( \"no error found\")\n",
    "else :\n",
    "    imshow( torchvision.utils.make_grid(errorimages) )\n",
    "    \n",
    "    print( \"this should be : \" , \",\".join( \"%2d\" % nb.item() for nb in errorlabels ) ) \n",
    "    for i in range(3) :\n",
    "        print( \"net choice #\" , i+1 , \": \" , \",\".join( \"%2d\" % nb.item() for nb in list(torch.topk( erroroutputs, 3)[1][:,i]) ) ) "
   ]
  },
  {
   "cell_type": "code",
   "execution_count": 98,
   "metadata": {},
   "outputs": [
    {
     "data": {
      "image/png": "[encoded data removed]",
      "text/plain": [
       "<Figure size 432x288 with 1 Axes>"
      ]
     },
     "metadata": {
      "needs_background": "light"
     },
     "output_type": "display_data"
    }
   ],
   "source": [
    "sample_image = errorimages[0]\n",
    "imshow( torchvision.utils.make_grid(sample_image) )"
   ]
  },
  {
   "cell_type": "code",
   "execution_count": 77,
   "metadata": {},
   "outputs": [],
   "source": [
    "net = copy.deepcopy(cudanet).cpu()"
   ]
  },
  {
   "cell_type": "code",
   "execution_count": 83,
   "metadata": {},
   "outputs": [
    {
     "data": {
      "image/png": "[encoded data removed]",
      "text/plain": [
       "<Figure size 432x288 with 1 Axes>"
      ]
     },
     "metadata": {
      "needs_background": "light"
     },
     "output_type": "display_data"
    }
   ],
   "source": [
    "# get some random training images\n",
    "valid_loader  = torch.utils.data.DataLoader(testset , batch_size = 8, shuffle=False, num_workers=2)\n",
    "dataiter = iter(valid_loader)\n",
    "images, labels = dataiter.next()\n",
    "imshow( torchvision.utils.make_grid(images) )\n",
    "sample_image = images[1]"
   ]
  },
  {
   "cell_type": "code",
   "execution_count": 107,
   "metadata": {},
   "outputs": [
    {
     "data": {
      "image/png": "[encoded data removed]",
      "text/plain": [
       "<Figure size 432x288 with 1 Axes>"
      ]
     },
     "metadata": {
      "needs_background": "light"
     },
     "output_type": "display_data"
    },
    {
     "name": "stdout",
     "output_type": "stream",
     "text": [
      "tensor(1.) tensor(0.)\n"
     ]
    }
   ],
   "source": [
    "activation = {}\n",
    "def get_activation(name):\n",
    "    def hook(model, input, output):\n",
    "        activation[name] = output.detach()\n",
    "    return hook\n",
    "\n",
    "layer = \"2\" # display all feature map of sample_image from layer\n",
    "with torch.no_grad() :\n",
    "    #print( net._modules )\n",
    "    net.conv._modules[layer].register_forward_hook(get_activation(layer))\n",
    "    output = net(sample_image.unsqueeze(0))\n",
    "\n",
    "    act = activation[layer].squeeze().unsqueeze(1)\n",
    "    # print(act.size())\n",
    "    act = act - act.min()\n",
    "    act = act / act.max() \n",
    "        \n",
    "imshow(torchvision.utils.make_grid(act ))\n",
    "print(act.max(),act.min())"
   ]
  },
  {
   "cell_type": "code",
   "execution_count": 140,
   "metadata": {},
   "outputs": [
    {
     "name": "stdout",
     "output_type": "stream",
     "text": [
      "tensor(1.) tensor(0.)\n"
     ]
    },
    {
     "data": {
      "image/png": "[encoded data removed]",
      "text/plain": [
       "<Figure size 432x288 with 1 Axes>"
      ]
     },
     "metadata": {
      "needs_background": "light"
     },
     "output_type": "display_data"
    },
    {
     "name": "stdout",
     "output_type": "stream",
     "text": [
      "tensor(1.) tensor(0.)\n"
     ]
    },
    {
     "data": {
      "image/png": "[encoded data removed]",
      "text/plain": [
       "<Figure size 432x288 with 1 Axes>"
      ]
     },
     "metadata": {
      "needs_background": "light"
     },
     "output_type": "display_data"
    },
    {
     "name": "stdout",
     "output_type": "stream",
     "text": [
      "tensor(1.) tensor(0.)\n"
     ]
    },
    {
     "data": {
      "image/png": "[encoded data removed]",
      "text/plain": [
       "<Figure size 432x288 with 1 Axes>"
      ]
     },
     "metadata": {
      "needs_background": "light"
     },
     "output_type": "display_data"
    }
   ],
   "source": [
    "for i,(name, kernels) in enumerate(net.state_dict().items()) :\n",
    "    if not (name.startswith(\"conv\") and name.endswith(\"weight\") ):\n",
    "        continue \n",
    "    kernels = kernels.detach().view(-1,1,kernels.size()[-1],kernels.size()[-1])\n",
    "    kernels = kernels - kernels.min()\n",
    "    kernels = kernels / kernels.max() \n",
    "    size = min(kernels.size()[0],16)\n",
    "    print( kernels.max() , kernels.min() )\n",
    "    # print(kernels.size())\n",
    "    imshow(torchvision.utils.make_grid(kernels[0:size,:,:,:]))"
   ]
  },
  {
   "cell_type": "markdown",
   "metadata": {},
   "source": [
    "### Save and load models"
   ]
  },
  {
   "cell_type": "markdown",
   "metadata": {},
   "source": [
    "#### Save the state_dict of the model for each epoch on a local directory"
   ]
  },
  {
   "cell_type": "code",
   "execution_count": 198,
   "metadata": {},
   "outputs": [],
   "source": [
    "local_path = \"./save\"\n",
    "for epoch , tmp_state_dict in enumerate(state_dict_list,1) :\n",
    "    saving_path = local_path + \"/dev1num2model_for_epoch{Epoch}.pth\".format( Epoch = epoch )\n",
    "    torch.save( tmp_state_dict , saving_path)"
   ]
  },
  {
   "cell_type": "markdown",
   "metadata": {},
   "source": [
    "#### load from file and set the load the state_dict of the last epoch on a object\n",
    "the files have to be located in \"./save\" and named \"dev1num2model_for_epoch{j}.pth\" for j from ... to ..."
   ]
  },
  {
   "cell_type": "code",
   "execution_count": 205,
   "metadata": {},
   "outputs": [
    {
     "name": "stdout",
     "output_type": "stream",
     "text": [
      "torch.Size([16, 1, 11, 11])\n",
      "torch.Size([16])\n",
      "torch.Size([32, 16, 11, 11])\n",
      "torch.Size([32])\n",
      "torch.Size([64, 32, 3, 3])\n",
      "torch.Size([64])\n",
      "torch.Size([768, 1024])\n",
      "torch.Size([768])\n",
      "torch.Size([10, 768])\n",
      "torch.Size([10])\n"
     ]
    }
   ],
   "source": [
    "for x in tmp_dict.values() :\n",
    "    print(x.shape)"
   ]
  },
  {
   "cell_type": "code",
   "execution_count": 206,
   "metadata": {},
   "outputs": [
    {
     "name": "stdout",
     "output_type": "stream",
     "text": [
      "torch.Size([16, 1, 3, 3])\n",
      "torch.Size([16])\n",
      "torch.Size([32, 16, 3, 3])\n",
      "torch.Size([32])\n",
      "torch.Size([64, 32, 3, 3])\n",
      "torch.Size([64])\n",
      "torch.Size([512, 1024])\n",
      "torch.Size([512])\n",
      "torch.Size([10, 512])\n",
      "torch.Size([10])\n"
     ]
    }
   ],
   "source": [
    "cudanet = Classifier2()\n",
    "for x in cudanet.state_dict().values() :\n",
    "    print(x.shape)"
   ]
  },
  {
   "cell_type": "code",
   "execution_count": 202,
   "metadata": {},
   "outputs": [
    {
     "name": "stdout",
     "output_type": "stream",
     "text": [
      "./save/dev1num2model_for_epoch1.pth\n",
      "./save/dev1num2model_for_epoch2.pth\n",
      "./save/dev1num2model_for_epoch3.pth\n",
      "./save/dev1num2model_for_epoch4.pth\n",
      "./save/dev1num2model_for_epoch5.pth\n",
      "./save/dev1num2model_for_epoch6.pth\n",
      "./save/dev1num2model_for_epoch7.pth\n",
      "./save/dev1num2model_for_epoch8.pth\n",
      "./save/dev1num2model_for_epoch9.pth\n",
      "./save/dev1num2model_for_epoch10.pth\n"
     ]
    },
    {
     "ename": "RuntimeError",
     "evalue": "Error(s) in loading state_dict for Classifier2:\n\tsize mismatch for conv.0.weight: copying a param with shape torch.Size([16, 1, 11, 11]) from checkpoint, the shape in current model is torch.Size([16, 1, 3, 3]).\n\tsize mismatch for conv.2.weight: copying a param with shape torch.Size([32, 16, 11, 11]) from checkpoint, the shape in current model is torch.Size([32, 16, 3, 3]).\n\tsize mismatch for clf1.weight: copying a param with shape torch.Size([768, 1024]) from checkpoint, the shape in current model is torch.Size([512, 1024]).\n\tsize mismatch for clf1.bias: copying a param with shape torch.Size([768]) from checkpoint, the shape in current model is torch.Size([512]).\n\tsize mismatch for clf2.weight: copying a param with shape torch.Size([10, 768]) from checkpoint, the shape in current model is torch.Size([10, 512]).",
     "output_type": "error",
     "traceback": [
      "\u001b[1;31m---------------------------------------------------------------------------\u001b[0m",
      "\u001b[1;31mRuntimeError\u001b[0m                              Traceback (most recent call last)",
      "\u001b[1;32m<ipython-input-202-46022ac94767>\u001b[0m in \u001b[0;36m<module>\u001b[1;34m()\u001b[0m\n\u001b[0;32m     12\u001b[0m \u001b[1;32melse\u001b[0m \u001b[1;33m:\u001b[0m\u001b[1;33m\u001b[0m\u001b[0m\n\u001b[0;32m     13\u001b[0m     \u001b[0mcudanet\u001b[0m \u001b[1;33m=\u001b[0m \u001b[0mClassifier2\u001b[0m\u001b[1;33m(\u001b[0m\u001b[1;33m)\u001b[0m\u001b[1;33m\u001b[0m\u001b[0m\n\u001b[1;32m---> 14\u001b[1;33m     \u001b[0mcudanet\u001b[0m\u001b[1;33m.\u001b[0m\u001b[0mload_state_dict\u001b[0m\u001b[1;33m(\u001b[0m\u001b[0mtmp_dict\u001b[0m\u001b[1;33m)\u001b[0m\u001b[1;33m\u001b[0m\u001b[0m\n\u001b[0m\u001b[0;32m     15\u001b[0m     \u001b[0mcudanet\u001b[0m\u001b[1;33m.\u001b[0m\u001b[0meval\u001b[0m\u001b[1;33m(\u001b[0m\u001b[1;33m)\u001b[0m\u001b[1;33m\u001b[0m\u001b[0m\n",
      "\u001b[1;32mC:\\Program Files (x86)\\Microsoft Visual Studio\\Shared\\Anaconda3_64\\lib\\site-packages\\torch\\nn\\modules\\module.py\u001b[0m in \u001b[0;36mload_state_dict\u001b[1;34m(self, state_dict, strict)\u001b[0m\n\u001b[0;32m    767\u001b[0m         \u001b[1;32mif\u001b[0m \u001b[0mlen\u001b[0m\u001b[1;33m(\u001b[0m\u001b[0merror_msgs\u001b[0m\u001b[1;33m)\u001b[0m \u001b[1;33m>\u001b[0m \u001b[1;36m0\u001b[0m\u001b[1;33m:\u001b[0m\u001b[1;33m\u001b[0m\u001b[0m\n\u001b[0;32m    768\u001b[0m             raise RuntimeError('Error(s) in loading state_dict for {}:\\n\\t{}'.format(\n\u001b[1;32m--> 769\u001b[1;33m                                self.__class__.__name__, \"\\n\\t\".join(error_msgs)))\n\u001b[0m\u001b[0;32m    770\u001b[0m \u001b[1;33m\u001b[0m\u001b[0m\n\u001b[0;32m    771\u001b[0m     \u001b[1;32mdef\u001b[0m \u001b[0m_named_members\u001b[0m\u001b[1;33m(\u001b[0m\u001b[0mself\u001b[0m\u001b[1;33m,\u001b[0m \u001b[0mget_members_fn\u001b[0m\u001b[1;33m,\u001b[0m \u001b[0mprefix\u001b[0m\u001b[1;33m=\u001b[0m\u001b[1;34m''\u001b[0m\u001b[1;33m,\u001b[0m \u001b[0mrecurse\u001b[0m\u001b[1;33m=\u001b[0m\u001b[1;32mTrue\u001b[0m\u001b[1;33m)\u001b[0m\u001b[1;33m:\u001b[0m\u001b[1;33m\u001b[0m\u001b[0m\n",
      "\u001b[1;31mRuntimeError\u001b[0m: Error(s) in loading state_dict for Classifier2:\n\tsize mismatch for conv.0.weight: copying a param with shape torch.Size([16, 1, 11, 11]) from checkpoint, the shape in current model is torch.Size([16, 1, 3, 3]).\n\tsize mismatch for conv.2.weight: copying a param with shape torch.Size([32, 16, 11, 11]) from checkpoint, the shape in current model is torch.Size([32, 16, 3, 3]).\n\tsize mismatch for clf1.weight: copying a param with shape torch.Size([768, 1024]) from checkpoint, the shape in current model is torch.Size([512, 1024]).\n\tsize mismatch for clf1.bias: copying a param with shape torch.Size([768]) from checkpoint, the shape in current model is torch.Size([512]).\n\tsize mismatch for clf2.weight: copying a param with shape torch.Size([10, 768]) from checkpoint, the shape in current model is torch.Size([10, 512])."
     ]
    }
   ],
   "source": [
    "local_path = \"./save\"\n",
    "state_dict_list = list()\n",
    "\n",
    "from_idx = 1\n",
    "to_idx = 10\n",
    "\n",
    "for epoch in range( from_idx  , to_idx + 1 , 1 ):\n",
    "    path = local_path + \"/dev1num2model_for_epoch{Epoch}.pth\".format( Epoch = epoch )\n",
    "    tmp_dict = torch.load(path)\n",
    "    state_dict_list.append(tmp_dict)\n",
    "    print( path )\n",
    "else : \n",
    "    cudanet = Classifier2()\n",
    "    cudanet.load_state_dict(tmp_dict)\n",
    "    cudanet.eval()                     "
   ]
  },
  {
   "cell_type": "code",
   "execution_count": null,
   "metadata": {},
   "outputs": [],
   "source": []
  }
 ],
 "metadata": {
  "celltoolbar": "Format de la Cellule Texte Brut",
  "kernelspec": {
   "display_name": "Python 3",
   "language": "python",
   "name": "python3"
  },
  "language_info": {
   "codemirror_mode": {
    "name": "ipython",
    "version": 3
   },
   "file_extension": ".py",
   "mimetype": "text/x-python",
   "name": "python",
   "nbconvert_exporter": "python",
   "pygments_lexer": "ipython3",
   "version": "3.6.5"
  }
 },
 "nbformat": 4,
 "nbformat_minor": 2
}
