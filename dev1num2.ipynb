{
  "nbformat": 4,
  "nbformat_minor": 0,
  "metadata": {
    "colab": {
      "name": "dev1num2.ipynb",
      "version": "0.3.2",
      "provenance": []
    },
    "kernelspec": {
      "name": "python3",
      "display_name": "Python 3"
    },
    "accelerator": "GPU"
  },
  "cells": [
    {
      "metadata": {
        "id": "VKyGmX5RGmlP",
        "colab_type": "code",
        "colab": {
          "base_uri": "https://localhost:8080/",
          "height": 35
        },
        "outputId": "9959f099-57ae-4b5e-e51b-7afa64c31594"
      },
      "cell_type": "code",
      "source": [
        "import torch\n",
        "import torchvision\n",
        "import torchvision.transforms as transforms # \n",
        "import torchvision.datasets.mnist as mnist  # to import data\n",
        "\n",
        "# we use torch.cuda.Event(enable_timing=True) to measure time\n",
        "# from timeit import default_timer as timer\n",
        "# import time\n",
        "\n",
        "import torch.optim as optim\n",
        "import torch.nn as nn\n",
        "import torch.nn.functional as F\n",
        "\n",
        "import collections           # for ordered_dictionnary\n",
        "import torch.nn.init as init # to initialize model\n",
        "\n",
        "import copy                  # for copy.deepcopy( ... )\n",
        "\n",
        "import matplotlib.pyplot as plt\n",
        "import numpy as np\n",
        "\n",
        "import collections\n",
        "import torch.nn.init as init\n",
        "\n",
        "device = torch.device(\"cuda:0\" if torch.cuda.is_available() else \"cpu\")\n",
        "print(device)"
      ],
      "execution_count": 7,
      "outputs": [
        {
          "output_type": "stream",
          "text": [
            "cuda:0\n"
          ],
          "name": "stdout"
        }
      ]
    },
    {
      "metadata": {
        "id": "z9_OoDE4Gmlm",
        "colab_type": "text"
      },
      "cell_type": "markdown",
      "source": [
        "# Assigment 1, part 2"
      ]
    },
    {
      "metadata": {
        "id": "8ZeIOd9bGmlq",
        "colab_type": "text"
      },
      "cell_type": "markdown",
      "source": [
        "## import data"
      ]
    },
    {
      "metadata": {
        "id": "0xiqwsWrGmlt",
        "colab_type": "code",
        "colab": {
          "base_uri": "https://localhost:8080/",
          "height": 53
        },
        "outputId": "f7b900c5-c930-45d7-f5e9-bdd22eae3249"
      },
      "cell_type": "code",
      "source": [
        "transform1 = transforms.Compose( [transforms.ToTensor(), transforms.Normalize((0.5, 0.5, 0.5), (0.5, 0.5, 0.5))])\n",
        "transform2 = transforms.Compose( [transforms.ToTensor(), transforms.Normalize( (0.1307,), (0.3081,)) ])\n",
        "dl_path  = \"./data_mnist\"\n",
        "\n",
        "trainset = mnist.MNIST( root = dl_path, train=True , download=True, transform = transform2 )\n",
        "testset  = mnist.MNIST( root = dl_path, train=False, download=True, transform = transform2 )\n",
        "\n",
        "training_dataset_size = len(trainset)\n",
        "testing_dataset_size  = len(testset)\n",
        "\n",
        "print( training_dataset_size )\n",
        "print( testing_dataset_size )"
      ],
      "execution_count": 43,
      "outputs": [
        {
          "output_type": "stream",
          "text": [
            "60000\n",
            "10000\n"
          ],
          "name": "stdout"
        }
      ]
    },
    {
      "metadata": {
        "id": "jpYyV8nZGml8",
        "colab_type": "text"
      },
      "cell_type": "markdown",
      "source": [
        "##Exploration\n",
        "display some samples"
      ]
    },
    {
      "metadata": {
        "id": "lL9O_euLGmmB",
        "colab_type": "code",
        "colab": {
          "base_uri": "https://localhost:8080/",
          "height": 146
        },
        "outputId": "8d8ee508-6417-4a55-beb7-752d0a0e1d09"
      },
      "cell_type": "code",
      "source": [
        "nb_sample = 8\n",
        "\n",
        "trainloader = torch.utils.data.DataLoader(trainset, batch_size = nb_sample, shuffle=True , num_workers=2)\n",
        "testloader  = torch.utils.data.DataLoader(testset , batch_size = nb_sample, shuffle=False, num_workers=2)\n",
        "\n",
        "# functions to show an image\n",
        "\n",
        "def imshow(img):\n",
        "    img = ( img + 0.43 ) / 3.3    # to be in the interval [0,1]\n",
        "    npimg = img.numpy()\n",
        "    npimg = (255*npimg).astype(np.uint8) # to be a int in (0,...,255)\n",
        "    plt.imshow(np.transpose(npimg, (1, 2, 0)))\n",
        "    plt.show()\n",
        "\n",
        "# get some random training images\n",
        "dataiter = iter(trainloader)\n",
        "images, labels = dataiter.next()\n",
        "\n",
        "# show images\n",
        "imshow(torchvision.utils.make_grid(images))\n",
        "# print labels\n",
        "print(' '.join('%5s' % labels[j].item() for j in range(nb_sample)))\n",
        "print( \"img size = \" , images.size() , \"label size = \" , labels.size() )"
      ],
      "execution_count": 8,
      "outputs": [
        {
          "output_type": "display_data",
          "data": {
            "image/png": "[encoded data removed]",
            "text/plain": [
              "<Figure size 576x396 with 1 Axes>"
            ]
          },
          "metadata": {
            "tags": []
          }
        },
        {
          "output_type": "stream",
          "text": [
            "    4     6     5     1     2     0     2     0\n",
            "img size =  torch.Size([8, 1, 28, 28]) label size =  torch.Size([8])\n"
          ],
          "name": "stdout"
        }
      ]
    },
    {
      "metadata": {
        "id": "hkISsuxsGmmx",
        "colab_type": "text"
      },
      "cell_type": "markdown",
      "source": [
        "## Define some modules"
      ]
    },
    {
      "metadata": {
        "id": "_EoIvDxZGmm4",
        "colab_type": "text"
      },
      "cell_type": "markdown",
      "source": [
        "###MPL"
      ]
    },
    {
      "metadata": {
        "id": "ORiaIlPaGmm7",
        "colab_type": "code",
        "colab": {}
      },
      "cell_type": "code",
      "source": [
        "class MLP(nn.Module):\n",
        "    def __init__(self, h1, h2):\n",
        "        super(MLP, self).__init__()\n",
        "        self.fc1 = nn.Linear(784, h1)\n",
        "        self.fc2 = nn.Linear(h1 , h2)\n",
        "        self.fc3 = nn.Linear(h2 , 10)\n",
        "\n",
        "    def forward(self, x):\n",
        "        x = x.view( -1, 28 * 28 )\n",
        "        x = F.relu(self.fc1(x))\n",
        "        x = F.relu(self.fc2(x))\n",
        "        x = F.softmax(self.fc3(x), dim=-1)\n",
        "        return x"
      ],
      "execution_count": 0,
      "outputs": []
    },
    {
      "metadata": {
        "id": "kubnspLwGmno",
        "colab_type": "text"
      },
      "cell_type": "markdown",
      "source": [
        "###CNN\n",
        "architecture taken from :\n",
        "    https://github.com/MaximumEntropy/welcome_tutorials/tree/pytorch/pytorch"
      ]
    },
    {
      "metadata": {
        "id": "_gXyrRcqGmnu",
        "colab_type": "code",
        "colab": {}
      },
      "cell_type": "code",
      "source": [
        "class Classifier(nn.Module):\n",
        "    \"\"\"Convnet Classifier\"\"\"\n",
        "    def __init__(self, kernel_sz = 3 ):\n",
        "        \n",
        "        if kernel_sz % 2 == 0 :\n",
        "            raise ValueError(\"kernel size must be odd\")\n",
        "        pad = kernel_sz // 2 \n",
        "        \n",
        "        super(Classifier, self).__init__()\n",
        "        self.conv = nn.Sequential(\n",
        "            # Layer 1\n",
        "            nn.Conv2d(in_channels=1, out_channels=16, kernel_size=( kernel_sz , kernel_sz ), padding=pad ),\n",
        "            # nn.Dropout(p=0.5),\n",
        "            nn.ReLU(),\n",
        "            nn.MaxPool2d(kernel_size=(2, 2), stride=2),\n",
        "            \n",
        "            # Layer 2\n",
        "            nn.Conv2d(in_channels=16, out_channels=32, kernel_size=( kernel_sz , kernel_sz), padding=pad),\n",
        "            # nn.Dropout(p=0.5),\n",
        "            nn.ReLU(),\n",
        "            nn.MaxPool2d(kernel_size=(2, 2), stride=2),\n",
        "            \n",
        "            # Layer 3\n",
        "            nn.Conv2d(in_channels=32, out_channels=64, kernel_size=( kernel_sz , kernel_sz), padding=pad),\n",
        "            # nn.Dropout(p=0.5),\n",
        "            nn.ReLU(),\n",
        "            nn.MaxPool2d(kernel_size=(2, 2), stride=2),\n",
        "            \n",
        "            # Layer 4\n",
        "            nn.Conv2d(in_channels=64, out_channels=128, kernel_size=(kernel_sz , kernel_sz), padding=pad),\n",
        "            # nn.Dropout(p=0.5),\n",
        "            nn.ReLU(),\n",
        "            nn.MaxPool2d(kernel_size=(2, 2), stride=2)\n",
        "        )\n",
        "        # Logistic Regression\n",
        "        self.clf = nn.Linear(128, 10)\n",
        "\n",
        "    def forward(self, x):\n",
        "        return self.clf(self.conv(x).squeeze())"
      ],
      "execution_count": 0,
      "outputs": []
    },
    {
      "metadata": {
        "id": "nM1Ij57oGmn2",
        "colab_type": "text"
      },
      "cell_type": "markdown",
      "source": [
        "##Number of parameters\n",
        "Print the number of parameters in each models and display the computation "
      ]
    },
    {
      "metadata": {
        "id": "elJ-odKcGmn4",
        "colab_type": "code",
        "colab": {
          "base_uri": "https://localhost:8080/",
          "height": 374
        },
        "outputId": "105eb7cd-f51a-4c64-f48a-e7d4581646a0"
      },
      "cell_type": "code",
      "source": [
        "def number_of_params( net ) :\n",
        "    nb_param  = 0\n",
        "    param_lst = \" \"\n",
        "    for i, (key, value) in enumerate( net.state_dict().items() ) :\n",
        "        \n",
        "        if i == 0 :\n",
        "            param_lst = param_lst + \"\\n ({:<20}    \".format( key + \")\" )\n",
        "        else :\n",
        "            param_lst = param_lst + \"\\n ({:<20}  + \".format( key + \")\" )\n",
        "            \n",
        "            \n",
        "        nb_param_tmp = 1\n",
        "        \n",
        "        for j , x in enumerate(value.size()) :\n",
        "            if j == 0 :\n",
        "                param_lst = param_lst + \"{xx}\".format( xx = x ) \n",
        "            else :\n",
        "                param_lst = param_lst + \"*{xx}\".format( xx = x ) \n",
        "                               \n",
        "            nb_param_tmp = nb_param_tmp * x\n",
        "                   \n",
        "        nb_param = nb_param + nb_param_tmp\n",
        "        \n",
        "    print( \"number of params = \" , nb_param , \" = \", param_lst  )\n",
        "\n",
        "mytestnet1 = MLP(h1=620,h2=620)\n",
        "mytestnet2 = Classifier( kernel_sz=9 )\n",
        "print(\"MLP:\")\n",
        "number_of_params( mytestnet1 )\n",
        "print(\"CNN:\")\n",
        "number_of_params( mytestnet2 )\n",
        "del mytestnet1\n",
        "del mytestnet2"
      ],
      "execution_count": 11,
      "outputs": [
        {
          "output_type": "stream",
          "text": [
            "MLP:\n",
            "number of params =  877930  =   \n",
            " (fc1.weight)             620*784\n",
            " (fc1.bias)             + 620\n",
            " (fc2.weight)           + 620*620\n",
            " (fc2.bias)             + 620\n",
            " (fc3.weight)           + 10*620\n",
            " (fc3.bias)             + 10\n",
            "CNN:\n",
            "number of params =  873738  =   \n",
            " (conv.0.weight)          16*1*9*9\n",
            " (conv.0.bias)          + 16\n",
            " (conv.3.weight)        + 32*16*9*9\n",
            " (conv.3.bias)          + 32\n",
            " (conv.6.weight)        + 64*32*9*9\n",
            " (conv.6.bias)          + 64\n",
            " (conv.9.weight)        + 128*64*9*9\n",
            " (conv.9.bias)          + 128\n",
            " (clf.weight)           + 10*128\n",
            " (clf.bias)             + 10\n"
          ],
          "name": "stdout"
        }
      ]
    },
    {
      "metadata": {
        "id": "RBH0cYDxGmoG",
        "colab_type": "text"
      },
      "cell_type": "markdown",
      "source": [
        "### Trying different initialization methods"
      ]
    },
    {
      "metadata": {
        "id": "hyKYfbNiGmop",
        "colab_type": "code",
        "colab": {
          "base_uri": "https://localhost:8080/",
          "height": 321
        },
        "outputId": "e638cbb7-afcc-45a9-f8f4-00d343d46bef"
      },
      "cell_type": "code",
      "source": [
        "def glorot_init ( layer ) :\n",
        "    \"\"\"\n",
        "    Weiths are generated from U[-d,d] where d = sqrt(6/(fan_in + fan_out)), biases are set to zero\n",
        "    \"\"\"\n",
        "    if type(layer) == nn.Linear or type(layer) == nn.Conv2d :\n",
        "        init.xavier_uniform_( layer.weight , gain=1 )\n",
        "        layer.bias.data.fill_(0.0)\n",
        "        \n",
        "def zero_init ( layer ) :\n",
        "    \"\"\"Everything is set to zero\"\"\"\n",
        "    if type(layer) == nn.Linear or type(layer) == nn.Conv2d :\n",
        "        layer.weight.data.fill_(0.0)\n",
        "        layer.bias.data.fill_(0.0)\n",
        "        \n",
        "def norm_init ( layer ) :\n",
        "    \"\"\"Weiths are generated from std normal, biases are set to zero\"\"\"\n",
        "    if type(layer) == nn.Linear or type(layer) == nn.Conv2d :\n",
        "        init.normal_(layer.weight, mean=0, std=1)\n",
        "        layer.bias.data.fill_(0.0)\n",
        "\n",
        "cudanet = Classifier( kernel_sz = 9 )\n",
        "# cudanet = MLP(h1=620,h2=620)\n",
        "\n",
        "cudanet.apply( glorot_init )\n",
        "# cudanet.apply( zero_init )\n",
        "# cudanet.apply( norm_init )\n",
        "\n",
        "# cudanet.load_state_dict(torch.load(path), strict=False)\n",
        "cudanet.to(device)"
      ],
      "execution_count": 12,
      "outputs": [
        {
          "output_type": "execute_result",
          "data": {
            "text/plain": [
              "Classifier(\n",
              "  (conv): Sequential(\n",
              "    (0): Conv2d(1, 16, kernel_size=(9, 9), stride=(1, 1), padding=(4, 4))\n",
              "    (1): ReLU()\n",
              "    (2): MaxPool2d(kernel_size=(2, 2), stride=2, padding=0, dilation=1, ceil_mode=False)\n",
              "    (3): Conv2d(16, 32, kernel_size=(9, 9), stride=(1, 1), padding=(4, 4))\n",
              "    (4): ReLU()\n",
              "    (5): MaxPool2d(kernel_size=(2, 2), stride=2, padding=0, dilation=1, ceil_mode=False)\n",
              "    (6): Conv2d(32, 64, kernel_size=(9, 9), stride=(1, 1), padding=(4, 4))\n",
              "    (7): ReLU()\n",
              "    (8): MaxPool2d(kernel_size=(2, 2), stride=2, padding=0, dilation=1, ceil_mode=False)\n",
              "    (9): Conv2d(64, 128, kernel_size=(9, 9), stride=(1, 1), padding=(4, 4))\n",
              "    (10): ReLU()\n",
              "    (11): MaxPool2d(kernel_size=(2, 2), stride=2, padding=0, dilation=1, ceil_mode=False)\n",
              "  )\n",
              "  (clf): Linear(in_features=128, out_features=10, bias=True)\n",
              ")"
            ]
          },
          "metadata": {
            "tags": []
          },
          "execution_count": 12
        }
      ]
    },
    {
      "metadata": {
        "id": "tAFDzz2E-mSL",
        "colab_type": "text"
      },
      "cell_type": "markdown",
      "source": [
        "##Training\n"
      ]
    },
    {
      "metadata": {
        "id": "DYWG9pSDGmpD",
        "colab_type": "code",
        "colab": {}
      },
      "cell_type": "code",
      "source": [
        "def train_model(batchsize=16*64, lr=0.055):\n",
        "    criterion = nn.CrossEntropyLoss()\n",
        "    optimizer = optim.SGD(cudanet.parameters(), lr=lr)\n",
        "    nb_epoch  = 10\n",
        "    trainloader = torch.utils.data.DataLoader(trainset, batch_size=batchsize,shuffle=True, num_workers=2)\n",
        "    state_dict_list = list()\n",
        "\n",
        "    for epoch in range( nb_epoch ):  # loop over the dataset multiple times\n",
        "\n",
        "        # if epoch == 5 :\n",
        "        #   optimizer = optim.SGD(cudanet.parameters(), lr=0.05, momentum=0.0, weight_decay=0) \n",
        "\n",
        "        running_loss = 0.0\n",
        "        for i, data in enumerate(trainloader, 0):\n",
        "            # get the inputs\n",
        "            inputs, labels = data\n",
        "            inputs, labels = inputs.to(device), labels.to(device)\n",
        "\n",
        "            # zero the parameter gradients\n",
        "            optimizer.zero_grad()\n",
        "\n",
        "            # forward + backward + optimize\n",
        "            outputs = cudanet(inputs)\n",
        "            # if i == 0 : print( outputs )\n",
        "            loss = criterion(outputs, labels)\n",
        "            loss.backward()\n",
        "            optimizer.step()\n",
        "\n",
        "            # print statistics\n",
        "            running_loss += loss.item()\n",
        "        else : # print every epoch\n",
        "            print('epoch = %d, loss = %.8f' % (epoch + 1, running_loss / (i*8*64))) # nb of sample per mini-batch\n",
        "            running_loss = 0.0\n",
        "            torch.cuda.synchronize()\n",
        "            tmp_state_dict = {}\n",
        "            for k, v in cudanet.state_dict().items():\n",
        "                tmp_state_dict[k] = v.cpu()\n",
        "            state_dict_list.append( tmp_state_dict )\n",
        "            torch.cuda.synchronize()\n",
        "\n",
        "    else : \n",
        "        print('Finished Training')\n",
        "    \n",
        "    \n",
        "def accuracy(cudanet, dataloader):\n",
        "    correct = torch.tensor([0])\n",
        "    total = torch.tensor([0])\n",
        "\n",
        "    correct, total = correct.to(device) , total.to(device) \n",
        "    with torch.no_grad():\n",
        "        for data in dataloader:\n",
        "            images, labels = data\n",
        "            images, labels = images.to(device), labels.to(device)\n",
        "            outputs = cudanet(images)\n",
        "            _, predicted = torch.max(outputs.data, 1)\n",
        "            total += labels.size(0)\n",
        "            correct += (predicted == labels).sum()\n",
        "\n",
        "    print('Accuracy of the network on the' , testing_dataset_size , ' images: %.2f %%' \n",
        "              % ( (100 * correct.double()) / total.double()  )\n",
        "         )"
      ],
      "execution_count": 0,
      "outputs": []
    },
    {
      "metadata": {
        "id": "C_FsFewS_K7y",
        "colab_type": "code",
        "colab": {
          "base_uri": "https://localhost:8080/",
          "height": 714
        },
        "outputId": "86d94a1b-67e6-48bd-8ffb-83b4b5369d64"
      },
      "cell_type": "code",
      "source": [
        "!pip install sobol_seq\n",
        "\n",
        "import sobol_seq\n",
        "\n",
        "#log_batchsize_min = 0\n",
        "log_batchsize_max = 10\n",
        "\n",
        "lr_min = 0.01\n",
        "lr_max = 0.5\n",
        "        \n",
        "if __name__ == '__main__':\n",
        "  \n",
        "    # random sobol hyperparameter search\n",
        "    seq = sobol_seq.i4_sobol_generate(2, 10)\n",
        "    for elem in seq:\n",
        "        batchsize = 2 ** int( np.floor( elem[0] * ( log_batchsize_max + 1 ) ) )   #\n",
        "        lr = float( (lr_max - lr_min) * elem[1] + lr_min )\n",
        "        print(\"############### Search with batch size = {} and lr = {} ###############\"\n",
        "              .format(batchsize, lr))\n",
        "        torch.cuda.synchronize()\n",
        "        start = torch.cuda.Event(enable_timing=True)\n",
        "        end   = torch.cuda.Event(enable_timing=True)\n",
        "        start.record()\n",
        "        train_model(batchsize, lr)\n",
        "        end.record()\n",
        "        torch.cuda.synchronize()\n",
        "        print( \"time required = \" , start.elapsed_time(end)*0.001 , \" s \")\n",
        "        \n",
        "        #test accuracy\n",
        "        print(\"Test accuracy: \")\n",
        "        testloader = torch.utils.data.DataLoader(testset, batch_size=batchsize,shuffle=True, num_workers=2)\n",
        "        accuracy(cudanet, testloader)\n",
        "        \n",
        "        #training accuracy\n",
        "        print(\"Training accuracy: \")\n",
        "        trainloader = torch.utils.data.DataLoader(trainset, batch_size=batchsize,shuffle=True, num_workers=2)\n",
        "        accuracy(cudanet, trainloader)\n",
        "        \n",
        "        ###Until here"
      ],
      "execution_count": 0,
      "outputs": [
        {
          "output_type": "stream",
          "text": [
            "Requirement already satisfied: sobol_seq in /usr/local/lib/python3.6/dist-packages (0.1.2)\n",
            "############### Search with batch size = 32 and lr = 0.255 ###############\n",
            "epoch = 1, loss = 0.00450043\n",
            "epoch = 2, loss = 0.00450094\n",
            "epoch = 3, loss = 0.00450037\n",
            "epoch = 4, loss = 0.00450065\n",
            "epoch = 5, loss = 0.00450039\n",
            "epoch = 6, loss = 0.00450045\n",
            "epoch = 7, loss = 0.00450045\n",
            "epoch = 8, loss = 0.00450060\n",
            "epoch = 9, loss = 0.00450081\n",
            "epoch = 10, loss = 0.00450054\n",
            "Finished Training\n",
            "time required =  201.66246875000002  s \n",
            "Test accuracy: \n",
            "Accuracy of the network on the 10000  images: 11.35 %\n",
            "Training accuracy: \n",
            "Accuracy of the network on the 10000  images: 11.24 %\n",
            "############### Search with batch size = 256 and lr = 0.1325 ###############\n",
            "epoch = 1, loss = 0.00451500\n",
            "epoch = 2, loss = 0.00451401\n",
            "epoch = 3, loss = 0.00451399\n",
            "epoch = 4, loss = 0.00451395\n",
            "epoch = 5, loss = 0.00451405\n",
            "epoch = 6, loss = 0.00451396\n",
            "epoch = 7, loss = 0.00451399\n",
            "epoch = 8, loss = 0.00451402\n",
            "epoch = 9, loss = 0.00451399\n",
            "epoch = 10, loss = 0.00451401\n",
            "Finished Training\n",
            "time required =  130.1457109375  s \n",
            "Test accuracy: \n",
            "Accuracy of the network on the 10000  images: 11.35 %\n",
            "Training accuracy: \n",
            "Accuracy of the network on the 10000  images: 11.24 %\n",
            "############### Search with batch size = 4 and lr = 0.3775 ###############\n",
            "epoch = 1, loss = 0.00453821\n",
            "epoch = 2, loss = 0.00453465\n",
            "epoch = 3, loss = 0.00453709\n"
          ],
          "name": "stdout"
        }
      ]
    },
    {
      "metadata": {
        "id": "kU1CgTpaGmqC",
        "colab_type": "text"
      },
      "cell_type": "markdown",
      "source": [
        "compare accuracy across epoch on training-test dataset"
      ]
    },
    {
      "metadata": {
        "colab_type": "code",
        "id": "j6gM_tgxSnNL",
        "colab": {}
      },
      "cell_type": "code",
      "source": [
        "trainloader = torch.utils.data.DataLoader(trainset, batch_size = 8*64, shuffle=True , num_workers=2)\n",
        "testloader  = torch.utils.data.DataLoader(testset , batch_size = 8*64, shuffle=True , num_workers=2)\n",
        "\n",
        "accuracy = torch.ones(nb_epoch,2, dtype=torch.float) * 100\n",
        "for epoch , tmp_state_dict in enumerate(state_dict_list,0) :\n",
        "    if epoch % 1 != 0 :\n",
        "        continue\n",
        "    \n",
        "    # net_model = cudanet.__class__\n",
        "    # cudaTOCPUnet = net_model(h1,h2)\n",
        "    # cudaTOCPUnet = Classifier( kernel_sz = 9 )\n",
        "    cudaTOCPUnet = copy.deepcopy( cudanet )\n",
        "    cudaTOCPUnet.load_state_dict( tmp_state_dict )\n",
        "    cuda_test_net = copy.deepcopy(cudaTOCPUnet).to(device)\n",
        "    \n",
        "    correct = torch.tensor([0,0])\n",
        "    total   = torch.tensor([0,0])\n",
        "    \n",
        "    correct, total = correct.to(device) , total.to(device) \n",
        "        \n",
        "    loader_list = [ testloader , trainloader ]\n",
        "    with torch.no_grad():\n",
        "        for i, loader in enumerate(loader_list,0) :\n",
        "            for data in loader:\n",
        "                images, labels = data\n",
        "                images, labels = images.to(device), labels.to(device)\n",
        "                outputs = cuda_test_net(images)\n",
        "                _, predicted = torch.max(outputs.data, 1)\n",
        "                total[i] += labels.size(0)\n",
        "                correct[i] += (predicted == labels).sum()\n",
        "    \n",
        "    accuracy[epoch,:] = accuracy[epoch,:] * correct.type(torch.FloatTensor) / total.type(torch.FloatTensor)\n",
        "    \n",
        "    print('epoch %3d : Accuracy of the network on the test images: %.2f %% , training images %.2f %% ' \n",
        "              % ( epoch+1, accuracy[epoch,0] , accuracy[epoch,1] )\n",
        "         )"
      ],
      "execution_count": 0,
      "outputs": []
    },
    {
      "metadata": {
        "id": "LuORuaM9GmqR",
        "colab_type": "text"
      },
      "cell_type": "markdown",
      "source": [
        "Plot the train and validation errors for each of the model"
      ]
    },
    {
      "metadata": {
        "id": "PIBOuUP8GmqV",
        "colab_type": "code",
        "colab": {
          "base_uri": "https://localhost:8080/",
          "height": 526
        },
        "outputId": "242fc52c-b7c5-4644-f47c-270291137464"
      },
      "cell_type": "code",
      "source": [
        "from matplotlib.pyplot import figure\n",
        "# import warnings\n",
        "# warnings.filterwarnings('ignore')\n",
        "\n",
        "# data to plot\n",
        "n_groups = nb_epoch\n",
        "accuracy_toplot = accuracy.numpy()\n",
        "\n",
        "tests_accuracy = accuracy_toplot[:,0]\n",
        "train_accuracy = accuracy_toplot[:,1]\n",
        "\n",
        "#\n",
        "plt.rcParams.update({'font.size': 16})\n",
        "plt.rcParams[\"figure.figsize\"] = (12 ,8)\n",
        "# create plot\n",
        "fig, ax = plt.subplots()\n",
        "index = np.arange(n_groups)\n",
        "bar_width = 0.3\n",
        "opacity = 0.8\n",
        " \n",
        "rects1 = plt.bar(index, tests_accuracy, bar_width,\n",
        "                 alpha=opacity,\n",
        "                 color='g',\n",
        "                 label='Test set')\n",
        " \n",
        "rects2 = plt.bar(index + bar_width, train_accuracy, bar_width,\n",
        "                 alpha=opacity,\n",
        "                 color='r',\n",
        "                 label='Training set')\n",
        "\n",
        "eps = 3 \n",
        "top = min(int( np.ceil(accuracy_toplot.max() + eps)) , 100)\n",
        "bot = max(int(np.floor(accuracy_toplot.min() - eps)) , 0  )\n",
        "\n",
        "\n",
        "plt.ylim(bot, top)     # set the ylim to bottom, top\n",
        "plt.axhline(y=97,color=\"black\")\n",
        "\n",
        "plt.xlabel('Epoch')\n",
        "plt.ylabel('Accuracy')\n",
        "plt.title('Comparison between training set and test set accuracy \\nduring the training phase')\n",
        "plt.xticks(index + bar_width, range(1,11,1) )\n",
        "plt.yticks( range(bot,top+1,1) )\n",
        "plt.legend()\n",
        "\n",
        "# plt.tight_layout()\n",
        "plt.show()"
      ],
      "execution_count": 25,
      "outputs": [
        {
          "output_type": "display_data",
          "data": {
            "image/png": "[encoded data removed]",
            "text/plain": [
              "<Figure size 864x576 with 1 Axes>"
            ]
          },
          "metadata": {
            "tags": []
          }
        }
      ]
    },
    {
      "metadata": {
        "id": "r8dC7ZvuGmqZ",
        "colab_type": "text"
      },
      "cell_type": "markdown",
      "source": [
        "## Some additionnal stuff"
      ]
    },
    {
      "metadata": {
        "id": "wL2ndlvfGmqb",
        "colab_type": "text"
      },
      "cell_type": "markdown",
      "source": [
        "##### 3-best accuracy : having the right label in the net's top 3 answers count as a good answer"
      ]
    },
    {
      "metadata": {
        "id": "q5ok96cPGmqc",
        "colab_type": "code",
        "colab": {
          "base_uri": "https://localhost:8080/",
          "height": 35
        },
        "outputId": "153eceae-3b90-4ea0-aa61-eaebc32d965f"
      },
      "cell_type": "code",
      "source": [
        "correct = torch.tensor([0])\n",
        "total = torch.tensor([0])\n",
        "\n",
        "correct, total = correct.to(device) , total.to(device) \n",
        "with torch.no_grad():\n",
        "    for data in testloader:\n",
        "        images, labels = data\n",
        "        images, labels = images.to(device), labels.to(device)\n",
        "        outputs = cudanet(images)\n",
        "        predicted = torch.topk(outputs.data, 3)[1]\n",
        "        total += labels.size(0)\n",
        "        correct += (predicted[:,0] == labels).sum()\n",
        "        correct += (predicted[:,1] == labels).sum()\n",
        "        correct += (predicted[:,2] == labels).sum()\n",
        "\n",
        "print('3-best Accuracy of the network on the ' , testing_dataset_size , ' test images: %.3f %%' \n",
        "          % ( 100 * correct.double() / total.double())\n",
        "     )"
      ],
      "execution_count": 26,
      "outputs": [
        {
          "output_type": "stream",
          "text": [
            "3-best Accuracy of the network on the  10000  test images: 99.910 %\n"
          ],
          "name": "stdout"
        }
      ]
    },
    {
      "metadata": {
        "id": "CvcZg8AXGmqs",
        "colab_type": "text"
      },
      "cell_type": "markdown",
      "source": [
        "#### print some test sample that the net misclassifies"
      ]
    },
    {
      "metadata": {
        "id": "PGvJnyJOGmqu",
        "colab_type": "code",
        "colab": {
          "base_uri": "https://localhost:8080/",
          "height": 239
        },
        "outputId": "90c523eb-35f0-4848-c0dc-a44fda6f0cd8"
      },
      "cell_type": "code",
      "source": [
        "nb_of_error = torch.tensor([6])\n",
        "j = torch.tensor([0])\n",
        "errorimages  = torch.empty(6,1,28,28)\n",
        "errorlabels  = torch.empty(6)\n",
        "erroroutputs = torch.empty(6, 10)\n",
        "for images, labels in testloader :\n",
        "    images, labels = images.to(device), labels.to(device)\n",
        "    outputs = cudanet(images)\n",
        "    _, predicted = torch.max(outputs.data, 1)\n",
        "    if not (predicted == labels).sum() == labels.size()[0] :\n",
        "        comparison = (predicted == labels)\n",
        "        for i,b in enumerate( comparison ) :\n",
        "            if b == 0 :\n",
        "                errorimages[j,:,:,:] = copy.deepcopy(images[i,:,:,:]).cpu()\n",
        "                errorlabels[j] = labels[i].clone().detach().requires_grad_(False).cpu()\n",
        "                erroroutputs[j,:] = outputs[i,:].clone().detach().requires_grad_(False).cpu()\n",
        "                j = j + 1\n",
        "                if j.item() >= nb_of_error.item() :\n",
        "                    break\n",
        "        else :\n",
        "            continue\n",
        "        break\n",
        "        \n",
        "if j.item() == 0 :\n",
        "    print( \"no error found\")\n",
        "else :\n",
        "    imshow( torchvision.utils.make_grid(errorimages) )\n",
        "    \n",
        "    print( \"this should be : \" , \",\".join( \"%2d\" % nb.item() for nb in errorlabels ) ) \n",
        "    for i in range(3) :\n",
        "        print( \"net choice #\" , i+1 , \": \" , \",\".join( \"%2d\" % nb.item() for nb in list(torch.topk( erroroutputs, 3)[1][:,i]) ) ) "
      ],
      "execution_count": 27,
      "outputs": [
        {
          "output_type": "display_data",
          "data": {
            "image/png": "[encoded data removed]",
            "text/plain": [
              "<Figure size 864x576 with 1 Axes>"
            ]
          },
          "metadata": {
            "tags": []
          }
        },
        {
          "output_type": "stream",
          "text": [
            "this should be :   9, 9, 3, 4, 4, 6\n",
            "net choice # 1 :   5, 5, 5, 8, 9, 0\n",
            "net choice # 2 :   9, 9, 3, 4, 4, 6\n",
            "net choice # 3 :   0, 7, 7, 6, 7, 5\n"
          ],
          "name": "stdout"
        }
      ]
    },
    {
      "metadata": {
        "id": "mY0KmpvLGmq6",
        "colab_type": "text"
      },
      "cell_type": "markdown",
      "source": [
        "### Save and load models"
      ]
    },
    {
      "metadata": {
        "id": "Xw6GTER3Gmq9",
        "colab_type": "text"
      },
      "cell_type": "markdown",
      "source": [
        "#### Save the state_dict of the model for each epoch on a local directory"
      ]
    },
    {
      "metadata": {
        "id": "5Zw_N--BGmrA",
        "colab_type": "code",
        "colab": {
          "base_uri": "https://localhost:8080/",
          "height": 457
        },
        "outputId": "82c4a57a-332a-495a-a9b4-3dcd0813c5bc"
      },
      "cell_type": "code",
      "source": [
        "local_path = \"./save\"\n",
        "for epoch , tmp_state_dict in enumerate(state_dict_list,1) :\n",
        "    saving_path = local_path + \"/dev1num2model_for_epoch{Epoch}.pth\".format( Epoch = epoch )\n",
        "    torch.save( tmp_state_dict , saving_path)"
      ],
      "execution_count": 28,
      "outputs": [
        {
          "output_type": "error",
          "ename": "FileNotFoundError",
          "evalue": "ignored",
          "traceback": [
            "\u001b[0;31m---------------------------------------------------------------------------\u001b[0m",
            "\u001b[0;31mFileNotFoundError\u001b[0m                         Traceback (most recent call last)",
            "\u001b[0;32m<ipython-input-28-5cf21260f700>\u001b[0m in \u001b[0;36m<module>\u001b[0;34m()\u001b[0m\n\u001b[1;32m      2\u001b[0m \u001b[0;32mfor\u001b[0m \u001b[0mepoch\u001b[0m \u001b[0;34m,\u001b[0m \u001b[0mtmp_state_dict\u001b[0m \u001b[0;32min\u001b[0m \u001b[0menumerate\u001b[0m\u001b[0;34m(\u001b[0m\u001b[0mstate_dict_list\u001b[0m\u001b[0;34m,\u001b[0m\u001b[0;36m1\u001b[0m\u001b[0;34m)\u001b[0m \u001b[0;34m:\u001b[0m\u001b[0;34m\u001b[0m\u001b[0;34m\u001b[0m\u001b[0m\n\u001b[1;32m      3\u001b[0m     \u001b[0msaving_path\u001b[0m \u001b[0;34m=\u001b[0m \u001b[0mlocal_path\u001b[0m \u001b[0;34m+\u001b[0m \u001b[0;34m\"/dev1num2model_for_epoch{Epoch}.pth\"\u001b[0m\u001b[0;34m.\u001b[0m\u001b[0mformat\u001b[0m\u001b[0;34m(\u001b[0m \u001b[0mEpoch\u001b[0m \u001b[0;34m=\u001b[0m \u001b[0mepoch\u001b[0m \u001b[0;34m)\u001b[0m\u001b[0;34m\u001b[0m\u001b[0;34m\u001b[0m\u001b[0m\n\u001b[0;32m----> 4\u001b[0;31m     \u001b[0mtorch\u001b[0m\u001b[0;34m.\u001b[0m\u001b[0msave\u001b[0m\u001b[0;34m(\u001b[0m \u001b[0mtmp_state_dict\u001b[0m \u001b[0;34m,\u001b[0m \u001b[0msaving_path\u001b[0m\u001b[0;34m)\u001b[0m\u001b[0;34m\u001b[0m\u001b[0;34m\u001b[0m\u001b[0m\n\u001b[0m",
            "\u001b[0;32m/usr/local/lib/python3.6/dist-packages/torch/serialization.py\u001b[0m in \u001b[0;36msave\u001b[0;34m(obj, f, pickle_module, pickle_protocol)\u001b[0m\n\u001b[1;32m    216\u001b[0m         \u001b[0;34m>>\u001b[0m\u001b[0;34m>\u001b[0m \u001b[0mtorch\u001b[0m\u001b[0;34m.\u001b[0m\u001b[0msave\u001b[0m\u001b[0;34m(\u001b[0m\u001b[0mx\u001b[0m\u001b[0;34m,\u001b[0m \u001b[0mbuffer\u001b[0m\u001b[0;34m)\u001b[0m\u001b[0;34m\u001b[0m\u001b[0;34m\u001b[0m\u001b[0m\n\u001b[1;32m    217\u001b[0m     \"\"\"\n\u001b[0;32m--> 218\u001b[0;31m     \u001b[0;32mreturn\u001b[0m \u001b[0m_with_file_like\u001b[0m\u001b[0;34m(\u001b[0m\u001b[0mf\u001b[0m\u001b[0;34m,\u001b[0m \u001b[0;34m\"wb\"\u001b[0m\u001b[0;34m,\u001b[0m \u001b[0;32mlambda\u001b[0m \u001b[0mf\u001b[0m\u001b[0;34m:\u001b[0m \u001b[0m_save\u001b[0m\u001b[0;34m(\u001b[0m\u001b[0mobj\u001b[0m\u001b[0;34m,\u001b[0m \u001b[0mf\u001b[0m\u001b[0;34m,\u001b[0m \u001b[0mpickle_module\u001b[0m\u001b[0;34m,\u001b[0m \u001b[0mpickle_protocol\u001b[0m\u001b[0;34m)\u001b[0m\u001b[0;34m)\u001b[0m\u001b[0;34m\u001b[0m\u001b[0;34m\u001b[0m\u001b[0m\n\u001b[0m\u001b[1;32m    219\u001b[0m \u001b[0;34m\u001b[0m\u001b[0m\n\u001b[1;32m    220\u001b[0m \u001b[0;34m\u001b[0m\u001b[0m\n",
            "\u001b[0;32m/usr/local/lib/python3.6/dist-packages/torch/serialization.py\u001b[0m in \u001b[0;36m_with_file_like\u001b[0;34m(f, mode, body)\u001b[0m\n\u001b[1;32m    139\u001b[0m             \u001b[0;34m(\u001b[0m\u001b[0msys\u001b[0m\u001b[0;34m.\u001b[0m\u001b[0mversion_info\u001b[0m\u001b[0;34m[\u001b[0m\u001b[0;36m0\u001b[0m\u001b[0;34m]\u001b[0m \u001b[0;34m==\u001b[0m \u001b[0;36m3\u001b[0m \u001b[0;32mand\u001b[0m \u001b[0misinstance\u001b[0m\u001b[0;34m(\u001b[0m\u001b[0mf\u001b[0m\u001b[0;34m,\u001b[0m \u001b[0mpathlib\u001b[0m\u001b[0;34m.\u001b[0m\u001b[0mPath\u001b[0m\u001b[0;34m)\u001b[0m\u001b[0;34m)\u001b[0m\u001b[0;34m:\u001b[0m\u001b[0;34m\u001b[0m\u001b[0;34m\u001b[0m\u001b[0m\n\u001b[1;32m    140\u001b[0m         \u001b[0mnew_fd\u001b[0m \u001b[0;34m=\u001b[0m \u001b[0;32mTrue\u001b[0m\u001b[0;34m\u001b[0m\u001b[0;34m\u001b[0m\u001b[0m\n\u001b[0;32m--> 141\u001b[0;31m         \u001b[0mf\u001b[0m \u001b[0;34m=\u001b[0m \u001b[0mopen\u001b[0m\u001b[0;34m(\u001b[0m\u001b[0mf\u001b[0m\u001b[0;34m,\u001b[0m \u001b[0mmode\u001b[0m\u001b[0;34m)\u001b[0m\u001b[0;34m\u001b[0m\u001b[0;34m\u001b[0m\u001b[0m\n\u001b[0m\u001b[1;32m    142\u001b[0m     \u001b[0;32mtry\u001b[0m\u001b[0;34m:\u001b[0m\u001b[0;34m\u001b[0m\u001b[0;34m\u001b[0m\u001b[0m\n\u001b[1;32m    143\u001b[0m         \u001b[0;32mreturn\u001b[0m \u001b[0mbody\u001b[0m\u001b[0;34m(\u001b[0m\u001b[0mf\u001b[0m\u001b[0;34m)\u001b[0m\u001b[0;34m\u001b[0m\u001b[0;34m\u001b[0m\u001b[0m\n",
            "\u001b[0;31mFileNotFoundError\u001b[0m: [Errno 2] No such file or directory: './save/dev1num2model_for_epoch1.pth'"
          ]
        }
      ]
    },
    {
      "metadata": {
        "id": "G8_7oPVjGmrG",
        "colab_type": "text"
      },
      "cell_type": "markdown",
      "source": [
        "#### load from file and set the load the state_dict of the last epoch on a object\n",
        "the files have to be located in \"./save\" and named \"dev1num2model_for_epoch{j}.pth\" for j from ... to ..."
      ]
    },
    {
      "metadata": {
        "id": "MRcMVk2RGmrG",
        "colab_type": "code",
        "colab": {}
      },
      "cell_type": "code",
      "source": [
        "local_path = \"./save\"\n",
        "state_dict_list = list()\n",
        "\n",
        "from_idx = 1\n",
        "to_idx = 10\n",
        "\n",
        "for epoch in range( from_idx  , to_idx + 1 , 1 ):\n",
        "    path = local_path + \"/dev1num2model_for_epoch{Epoch}.pth\".format( Epoch = epoch )\n",
        "    tmp_dict = torch.load(path)\n",
        "    state_dict_list.append(tmp_dict)\n",
        "    print( path )\n",
        "else : \n",
        "    cudanet = Classifier( kernel_sz = 9 )\n",
        "    cudanet.load_state_dict(tmp_dict)\n",
        "    cudanet.eval()                     "
      ],
      "execution_count": 0,
      "outputs": []
    },
    {
      "metadata": {
        "id": "7b7G6UqNGmrO",
        "colab_type": "code",
        "colab": {}
      },
      "cell_type": "code",
      "source": [
        ""
      ],
      "execution_count": 0,
      "outputs": []
    }
  ]
}