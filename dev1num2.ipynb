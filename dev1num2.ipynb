{
 "cells": [
  {
   "cell_type": "code",
   "execution_count": 8,
   "metadata": {},
   "outputs": [],
   "source": [
    "import torch\n",
    "import torchvision\n",
    "import torchvision.transforms as transforms # \n",
    "import torchvision.datasets.mnist as mnist  # to import data\n",
    "\n",
    "# we use torch.cuda.Event(enable_timing=True) to measure time\n",
    "# from timeit import default_timer as timer\n",
    "# import time\n",
    "\n",
    "import torch.optim as optim\n",
    "import torch.nn as nn\n",
    "import torch.nn.functional as F\n",
    "\n",
    "import collections           # for ordered_dictionnary\n",
    "import torch.nn.init as init # to initialize model\n",
    "\n",
    "import copy                  # for copy.deepcopy( ... )\n",
    "\n",
    "import matplotlib.pyplot as plt\n",
    "import numpy as np\n",
    "\n",
    "import collections\n",
    "import torch.nn.init as init"
   ]
  },
  {
   "cell_type": "markdown",
   "metadata": {},
   "source": [
    "# Assigment 1, part 2"
   ]
  },
  {
   "cell_type": "markdown",
   "metadata": {},
   "source": [
    "## import data"
   ]
  },
  {
   "cell_type": "code",
   "execution_count": 3,
   "metadata": {},
   "outputs": [],
   "source": [
    "transform1 = transforms.Compose( [transforms.ToTensor(), transforms.Normalize((0.5, 0.5, 0.5), (0.5, 0.5, 0.5))])\n",
    "transform2 = transforms.Compose( [transforms.ToTensor(), transforms.Normalize( (0.1307,), (0.3081,)) ])\n",
    "dl_path  = \"./data_mnist\"\n",
    "\n",
    "trainset = mnist.MNIST( root = dl_path, train=True , download=True, transform = transform2 )\n",
    "testset  = mnist.MNIST( root = dl_path, train=False, download=True, transform = transform2 )"
   ]
  },
  {
   "cell_type": "markdown",
   "metadata": {},
   "source": [
    "display some samples"
   ]
  },
  {
   "cell_type": "code",
   "execution_count": 27,
   "metadata": {},
   "outputs": [
    {
     "data": {
      "image/png": "[encoded data removed]",
      "text/plain": [
       "<Figure size 864x576 with 1 Axes>"
      ]
     },
     "metadata": {
      "needs_background": "light"
     },
     "output_type": "display_data"
    },
    {
     "name": "stdout",
     "output_type": "stream",
     "text": [
      "    7     2     3     3     4     7     4     8\n",
      "img size =  torch.Size([8, 1, 28, 28]) label size =  torch.Size([8])\n"
     ]
    }
   ],
   "source": [
    "nb_sample = 8\n",
    "\n",
    "trainloader = torch.utils.data.DataLoader(trainset, batch_size = nb_sample, shuffle=True , num_workers=2)\n",
    "testloader  = torch.utils.data.DataLoader(testset , batch_size = nb_sample, shuffle=False, num_workers=2)\n",
    "\n",
    "# functions to show an image\n",
    "\n",
    "def imshow(img):\n",
    "    img = ( img + 0.43 ) / 3.3    # to be in the interval [0,1]\n",
    "    npimg = img.numpy()\n",
    "    npimg = (255*npimg).astype(np.uint8) # to be a int in (0,...,255)\n",
    "    plt.imshow(np.transpose(npimg, (1, 2, 0)))\n",
    "    plt.show()\n",
    "\n",
    "# get some random training images\n",
    "dataiter = iter(trainloader)\n",
    "images, labels = dataiter.next()\n",
    "\n",
    "# show images\n",
    "imshow(torchvision.utils.make_grid(images))\n",
    "# print labels\n",
    "print(' '.join('%5s' % labels[j].item() for j in range(nb_sample)))\n",
    "print( \"img size = \" , images.size() , \"label size = \" , labels.size() )"
   ]
  },
  {
   "cell_type": "markdown",
   "metadata": {},
   "source": [
    "print size of train-test dataset"
   ]
  },
  {
   "cell_type": "code",
   "execution_count": 5,
   "metadata": {},
   "outputs": [
    {
     "name": "stdout",
     "output_type": "stream",
     "text": [
      "60000\n",
      "10000\n"
     ]
    }
   ],
   "source": [
    "training_dataset_size = trainset.__len__()\n",
    "testing_dataset_size  = testset.__len__()\n",
    "\n",
    "print( training_dataset_size )\n",
    "print( testing_dataset_size )"
   ]
  },
  {
   "cell_type": "markdown",
   "metadata": {},
   "source": [
    "set the device to cuda if possible"
   ]
  },
  {
   "cell_type": "code",
   "execution_count": 6,
   "metadata": {},
   "outputs": [
    {
     "name": "stdout",
     "output_type": "stream",
     "text": [
      "cuda:0\n"
     ]
    }
   ],
   "source": [
    "device = torch.device(\"cuda:0\" if torch.cuda.is_available() else \"cpu\")\n",
    "print(device)"
   ]
  },
  {
   "cell_type": "markdown",
   "metadata": {},
   "source": [
    "## Define some modules"
   ]
  },
  {
   "cell_type": "markdown",
   "metadata": {},
   "source": [
    "### the MPL"
   ]
  },
  {
   "cell_type": "code",
   "execution_count": 9,
   "metadata": {},
   "outputs": [],
   "source": [
    "class MLP(nn.Module):\n",
    "    def __init__(self, h1, h2):\n",
    "        super(MLP, self).__init__()\n",
    "        self.fc1 = nn.Linear(784, h1)\n",
    "        self.fc2 = nn.Linear(h1 , h2)\n",
    "        self.fc3 = nn.Linear(h2 , 10)\n",
    "\n",
    "    def forward(self, x):\n",
    "        x = x.view( -1, 28 * 28 )\n",
    "        x = F.relu(self.fc1(x))\n",
    "        x = F.relu(self.fc2(x))\n",
    "        x = F.softmax(self.fc3(x), dim=-1)\n",
    "        return x"
   ]
  },
  {
   "cell_type": "code",
   "execution_count": 10,
   "metadata": {},
   "outputs": [],
   "source": [
    "# fan_in, fan_out = _calculate_fan_in_and_fan_out(tensor)\n",
    "# print( nn.init._calculate_fan_in_and_fan_out(net.state_dict()[\"fc1.weight\"]) )\n",
    "# print( net.state_dict()[\"fc1.weight\"].size() )"
   ]
  },
  {
   "cell_type": "markdown",
   "metadata": {},
   "source": [
    "### The CNN"
   ]
  },
  {
   "cell_type": "markdown",
   "metadata": {},
   "source": [
    "architecture taken from :\n",
    "    https://github.com/MaximumEntropy/welcome_tutorials/tree/pytorch/pytorch"
   ]
  },
  {
   "cell_type": "code",
   "execution_count": 11,
   "metadata": {},
   "outputs": [],
   "source": [
    "class Classifier(nn.Module):\n",
    "    \"\"\"Convnet Classifier\"\"\"\n",
    "    def __init__(self, kernel_sz = 3 ):\n",
    "        \n",
    "        if kernel_sz % 2 == 0 :\n",
    "            raise ValueError(\"kernel size must be odd\")\n",
    "        pad = kernel_sz // 2 \n",
    "        \n",
    "        super(Classifier, self).__init__()\n",
    "        self.conv = nn.Sequential(\n",
    "            # Layer 1\n",
    "            nn.Conv2d(in_channels=1, out_channels=16, kernel_size=( kernel_sz , kernel_sz ), padding=pad ),\n",
    "            # nn.Dropout(p=0.5),\n",
    "            nn.ReLU(),\n",
    "            nn.MaxPool2d(kernel_size=(2, 2), stride=2),\n",
    "            \n",
    "            # Layer 2\n",
    "            nn.Conv2d(in_channels=16, out_channels=32, kernel_size=( kernel_sz , kernel_sz), padding=pad),\n",
    "            # nn.Dropout(p=0.5),\n",
    "            nn.ReLU(),\n",
    "            nn.MaxPool2d(kernel_size=(2, 2), stride=2),\n",
    "            \n",
    "            # Layer 3\n",
    "            nn.Conv2d(in_channels=32, out_channels=64, kernel_size=( kernel_sz , kernel_sz), padding=pad),\n",
    "            # nn.Dropout(p=0.5),\n",
    "            nn.ReLU(),\n",
    "            nn.MaxPool2d(kernel_size=(2, 2), stride=2),\n",
    "            \n",
    "            # Layer 4\n",
    "            nn.Conv2d(in_channels=64, out_channels=128, kernel_size=(kernel_sz , kernel_sz), padding=pad),\n",
    "            # nn.Dropout(p=0.5),\n",
    "            nn.ReLU(),\n",
    "            nn.MaxPool2d(kernel_size=(2, 2), stride=2)\n",
    "        )\n",
    "        # Logistic Regression\n",
    "        self.clf = nn.Linear(128, 10)\n",
    "\n",
    "    def forward(self, x):\n",
    "        return self.clf(self.conv(x).squeeze())"
   ]
  },
  {
   "cell_type": "markdown",
   "metadata": {},
   "source": [
    "Print the number of parameters in each models and display the computation "
   ]
  },
  {
   "cell_type": "code",
   "execution_count": 12,
   "metadata": {},
   "outputs": [
    {
     "name": "stdout",
     "output_type": "stream",
     "text": [
      "number of params =  877930  =   \n",
      " (fc1.weight)             620*784\n",
      " (fc1.bias)             + 620\n",
      " (fc2.weight)           + 620*620\n",
      " (fc2.bias)             + 620\n",
      " (fc3.weight)           + 10*620\n",
      " (fc3.bias)             + 10\n",
      "number of params =  873738  =   \n",
      " (conv.0.weight)          16*1*9*9\n",
      " (conv.0.bias)          + 16\n",
      " (conv.3.weight)        + 32*16*9*9\n",
      " (conv.3.bias)          + 32\n",
      " (conv.6.weight)        + 64*32*9*9\n",
      " (conv.6.bias)          + 64\n",
      " (conv.9.weight)        + 128*64*9*9\n",
      " (conv.9.bias)          + 128\n",
      " (clf.weight)           + 10*128\n",
      " (clf.bias)             + 10\n"
     ]
    }
   ],
   "source": [
    "def number_of_params( net ) :\n",
    "    nb_param  = 0\n",
    "    param_lst = \" \"\n",
    "    for i, (key, value) in enumerate( net.state_dict().items() ) :\n",
    "        \n",
    "        if i == 0 :\n",
    "            param_lst = param_lst + \"\\n ({:<20}    \".format( key + \")\" )\n",
    "        else :\n",
    "            param_lst = param_lst + \"\\n ({:<20}  + \".format( key + \")\" )\n",
    "            \n",
    "            \n",
    "        nb_param_tmp = 1\n",
    "        \n",
    "        for j , x in enumerate(value.size()) :\n",
    "            if j == 0 :\n",
    "                param_lst = param_lst + \"{xx}\".format( xx = x ) \n",
    "            else :\n",
    "                param_lst = param_lst + \"*{xx}\".format( xx = x ) \n",
    "                               \n",
    "            nb_param_tmp = nb_param_tmp * x\n",
    "                   \n",
    "        nb_param = nb_param + nb_param_tmp\n",
    "        \n",
    "    print( \"number of params = \" , nb_param , \" = \", param_lst  )\n",
    "\n",
    "mytestnet1 = MLP(h1=620,h2=620)\n",
    "mytestnet2 = Classifier( kernel_sz=9 )\n",
    "number_of_params( mytestnet1 )\n",
    "number_of_params( mytestnet2 )\n",
    "del mytestnet1\n",
    "del mytestnet2"
   ]
  },
  {
   "cell_type": "markdown",
   "metadata": {},
   "source": [
    "### Define some initialization methods"
   ]
  },
  {
   "cell_type": "code",
   "execution_count": 13,
   "metadata": {},
   "outputs": [],
   "source": [
    "def glorot_init ( layer ) :\n",
    "    \"\"\"\n",
    "    Weiths are generated from U[-d,d] where d = sqrt(6/(fan_in + fan_out)), biases are set to zero\n",
    "    \"\"\"\n",
    "    if type(layer) == nn.Linear or type(layer) == nn.Conv2d :\n",
    "        init.xavier_uniform_( layer.weight , gain=1 )\n",
    "        layer.bias.data.fill_(0.0)\n",
    "        \n",
    "def zero_init ( layer ) :\n",
    "    \"\"\"Everything is set to zero\"\"\"\n",
    "    if type(layer) == nn.Linear or type(layer) == nn.Conv2d :\n",
    "        layer.weight.data.fill_(0.0)\n",
    "        layer.bias.data.fill_(0.0)\n",
    "        \n",
    "def norm_init ( layer ) :\n",
    "    \"\"\"Weiths are generated from std normal, biases are set to zero\"\"\"\n",
    "    if type(layer) == nn.Linear or type(layer) == nn.Conv2d :\n",
    "        init.normal_(layer.weight, mean=0, std=1)\n",
    "        layer.bias.data.fill_(0.0)"
   ]
  },
  {
   "cell_type": "code",
   "execution_count": 14,
   "metadata": {},
   "outputs": [],
   "source": [
    "# net = MLP(500,500)\n",
    "# print( net.state_dict()[\"fc1.weight\"] )\n",
    "# print( net.state_dict()[\"fc1.bias\"] )\n",
    "# net.apply( one_step_Glorot_init )\n",
    "# print( net.state_dict()[\"fc1.weight\"])\n",
    "# print( net.state_dict()[\"fc1.bias\"] )"
   ]
  },
  {
   "cell_type": "code",
   "execution_count": 100,
   "metadata": {},
   "outputs": [],
   "source": [
    "if False :\n",
    "    del cudanet"
   ]
  },
  {
   "cell_type": "code",
   "execution_count": 15,
   "metadata": {},
   "outputs": [
    {
     "data": {
      "text/plain": [
       "Classifier(\n",
       "  (conv): Sequential(\n",
       "    (0): Conv2d(1, 16, kernel_size=(9, 9), stride=(1, 1), padding=(4, 4))\n",
       "    (1): ReLU()\n",
       "    (2): MaxPool2d(kernel_size=(2, 2), stride=2, padding=0, dilation=1, ceil_mode=False)\n",
       "    (3): Conv2d(16, 32, kernel_size=(9, 9), stride=(1, 1), padding=(4, 4))\n",
       "    (4): ReLU()\n",
       "    (5): MaxPool2d(kernel_size=(2, 2), stride=2, padding=0, dilation=1, ceil_mode=False)\n",
       "    (6): Conv2d(32, 64, kernel_size=(9, 9), stride=(1, 1), padding=(4, 4))\n",
       "    (7): ReLU()\n",
       "    (8): MaxPool2d(kernel_size=(2, 2), stride=2, padding=0, dilation=1, ceil_mode=False)\n",
       "    (9): Conv2d(64, 128, kernel_size=(9, 9), stride=(1, 1), padding=(4, 4))\n",
       "    (10): ReLU()\n",
       "    (11): MaxPool2d(kernel_size=(2, 2), stride=2, padding=0, dilation=1, ceil_mode=False)\n",
       "  )\n",
       "  (clf): Linear(in_features=128, out_features=10, bias=True)\n",
       ")"
      ]
     },
     "execution_count": 15,
     "metadata": {},
     "output_type": "execute_result"
    }
   ],
   "source": [
    "cudanet = Classifier( kernel_sz = 9 )\n",
    "# cudanet = MLP(h1=620,h2=620)\n",
    "\n",
    "cudanet.apply( glorot_init )\n",
    "# cudanet.apply( zero_init )\n",
    "# cudanet.apply( norm_init )\n",
    "\n",
    "# cudanet.load_state_dict(torch.load(path), strict=False)\n",
    "cudanet.to(device)"
   ]
  },
  {
   "cell_type": "code",
   "execution_count": 16,
   "metadata": {},
   "outputs": [],
   "source": [
    "criterion = nn.CrossEntropyLoss()\n",
    "optimizer = optim.SGD(cudanet.parameters(), lr=0.055, momentum=0.0, weight_decay=0)\n",
    "nb_epoch  = 10"
   ]
  },
  {
   "cell_type": "code",
   "execution_count": 17,
   "metadata": {},
   "outputs": [
    {
     "name": "stdout",
     "output_type": "stream",
     "text": [
      "epoch = 1, loss = 0.00347052\n",
      "epoch = 2, loss = 0.00084709\n",
      "epoch = 3, loss = 0.00039708\n",
      "epoch = 4, loss = 0.00031282\n",
      "epoch = 5, loss = 0.00021171\n",
      "epoch = 6, loss = 0.00018068\n",
      "epoch = 7, loss = 0.00015818\n",
      "epoch = 8, loss = 0.00014084\n",
      "epoch = 9, loss = 0.00012693\n",
      "epoch = 10, loss = 0.00011423\n",
      "Finished Training\n",
      "time required =  139.8591875  s \n"
     ]
    }
   ],
   "source": [
    "trainloader = torch.utils.data.DataLoader(trainset, batch_size=16*64,shuffle=True, num_workers=2)\n",
    "state_dict_list = list()\n",
    "\n",
    "torch.cuda.synchronize()\n",
    "\n",
    "start = torch.cuda.Event(enable_timing=True)\n",
    "end   = torch.cuda.Event(enable_timing=True)\n",
    "start.record()\n",
    "\n",
    "for epoch in range( nb_epoch ):  # loop over the dataset multiple times\n",
    "    \n",
    "    # if epoch == 5 :\n",
    "    #   optimizer = optim.SGD(cudanet.parameters(), lr=0.05, momentum=0.0, weight_decay=0) \n",
    "        \n",
    "    running_loss = 0.0\n",
    "    for i, data in enumerate(trainloader, 0):\n",
    "        # get the inputs\n",
    "        inputs, labels = data\n",
    "        inputs, labels = inputs.to(device), labels.to(device)\n",
    "        \n",
    "        # zero the parameter gradients\n",
    "        optimizer.zero_grad()\n",
    "\n",
    "        # forward + backward + optimize\n",
    "        outputs = cudanet(inputs)\n",
    "        # if i == 0 : print( outputs )\n",
    "        loss = criterion(outputs, labels)\n",
    "        loss.backward()\n",
    "        optimizer.step()\n",
    "\n",
    "        # print statistics\n",
    "        running_loss += loss.item()\n",
    "    else : # print every epoch\n",
    "        print('epoch = %d, loss = %.8f' % (epoch + 1, running_loss / (i*8*64))) # nb of sample per mini-batch\n",
    "        running_loss = 0.0\n",
    "        torch.cuda.synchronize()\n",
    "        tmp_state_dict = {}\n",
    "        for k, v in cudanet.state_dict().items():\n",
    "            tmp_state_dict[k] = v.cpu()\n",
    "        state_dict_list.append( tmp_state_dict )\n",
    "        torch.cuda.synchronize()\n",
    "        \n",
    "else : \n",
    "    print('Finished Training')\n",
    "    \n",
    "end.record()\n",
    "torch.cuda.synchronize()\n",
    "print( \"time required = \" , start.elapsed_time(end)*0.001 , \" s \")"
   ]
  },
  {
   "cell_type": "markdown",
   "metadata": {},
   "source": [
    "test accuracy of net in its current state on the validation set"
   ]
  },
  {
   "cell_type": "code",
   "execution_count": 75,
   "metadata": {},
   "outputs": [
    {
     "name": "stdout",
     "output_type": "stream",
     "text": [
      "Accuracy of the network on the 10000 test images: 91.18 %\n"
     ]
    }
   ],
   "source": [
    "testloader = torch.utils.data.DataLoader(testset, batch_size=8*64,shuffle=True, num_workers=2)\n",
    "correct = torch.tensor([0])\n",
    "total = torch.tensor([0])\n",
    "\n",
    "correct, total = correct.to(device) , total.to(device) \n",
    "with torch.no_grad():\n",
    "    for data in testloader:\n",
    "        images, labels = data\n",
    "        images, labels = images.to(device), labels.to(device)\n",
    "        outputs = cudanet(images)\n",
    "        _, predicted = torch.max(outputs.data, 1)\n",
    "        total += labels.size(0)\n",
    "        # print(correct)\n",
    "        # print(predicted.size())\n",
    "        # print(labels.size())\n",
    "        # break\n",
    "        correct += (predicted == labels).sum()\n",
    "\n",
    "print('Accuracy of the network on the' , testing_dataset_size , 'test images: %.2f %%' \n",
    "          % ( (100 * correct.double()) / total.double()  )\n",
    "     ) "
   ]
  },
  {
   "cell_type": "markdown",
   "metadata": {},
   "source": [
    "Display the current state of the net"
   ]
  },
  {
   "cell_type": "code",
   "execution_count": 77,
   "metadata": {},
   "outputs": [],
   "source": [
    "if False :\n",
    "    for key, value in cudanet.state_dict().items() :\n",
    "        pass\n",
    "        print( key , \" = \\n\" , value , end = \"\\n\") "
   ]
  },
  {
   "cell_type": "markdown",
   "metadata": {},
   "source": [
    "training accuracy"
   ]
  },
  {
   "cell_type": "code",
   "execution_count": 96,
   "metadata": {},
   "outputs": [
    {
     "name": "stdout",
     "output_type": "stream",
     "text": [
      "Accuracy of the network on the 60000 train images: 98.32 %\n"
     ]
    }
   ],
   "source": [
    "trainloader = torch.utils.data.DataLoader(trainset, batch_size=16*64,shuffle=True, num_workers=2)\n",
    "\n",
    "correct = torch.tensor([0])\n",
    "total = torch.tensor([0])\n",
    "\n",
    "correct, total = correct.to(device) , total.to(device) \n",
    "with torch.no_grad():\n",
    "    for data in trainloader:\n",
    "        images, labels = data\n",
    "        images, labels = images.to(device), labels.to(device)\n",
    "        outputs = cudanet(images)\n",
    "        _, predicted = torch.max(outputs.data, 1)\n",
    "        total += labels.size(0)\n",
    "        # print(correct)\n",
    "        # print(predicted)\n",
    "        # print(labels)\n",
    "        correct += (predicted == labels).sum()\n",
    "\n",
    "print('Accuracy of the network on the' , training_dataset_size  , 'train images: %.2f %%' \n",
    "          % ( (100.0 * correct.double() ) / total.double() )\n",
    "     )"
   ]
  },
  {
   "cell_type": "markdown",
   "metadata": {},
   "source": [
    "compare accuracy across epoch on training-test dataset"
   ]
  },
  {
   "cell_type": "code",
   "execution_count": null,
   "metadata": {},
   "outputs": [
    {
     "name": "stdout",
     "output_type": "stream",
     "text": [
      "epoch   1 : Accuracy of the network on the test images: 79.75 % , training images 79.11 % \n",
      "epoch   2 : Accuracy of the network on the test images: 92.44 % , training images 91.84 % \n",
      "epoch   3 : Accuracy of the network on the test images: 95.77 % , training images 95.63 % \n",
      "epoch   4 : Accuracy of the network on the test images: 96.42 % , training images 96.55 % \n",
      "epoch   5 : Accuracy of the network on the test images: 96.96 % , training images 97.02 % \n",
      "epoch   6 : Accuracy of the network on the test images: 97.54 % , training images 97.55 % \n",
      "epoch   7 : Accuracy of the network on the test images: 97.28 % , training images 97.31 % \n",
      "epoch   8 : Accuracy of the network on the test images: 97.76 % , training images 97.94 % \n",
      "epoch   9 : Accuracy of the network on the test images: 98.04 % , training images 98.19 % \n"
     ]
    }
   ],
   "source": [
    "trainloader = torch.utils.data.DataLoader(trainset, batch_size = 8*64, shuffle=True , num_workers=2)\n",
    "testloader  = torch.utils.data.DataLoader(testset , batch_size = 8*64, shuffle=True , num_workers=2)\n",
    "\n",
    "accuracy = torch.ones(nb_epoch,2, dtype=torch.float) * 100\n",
    "for epoch , tmp_state_dict in enumerate(state_dict_list,0) :\n",
    "    if epoch % 1 != 0 :\n",
    "        continue\n",
    "    \n",
    "    # net_model = cudanet.__class__\n",
    "    # cudaTOCPUnet = net_model(h1,h2)\n",
    "    # cudaTOCPUnet = Classifier( kernel_sz = 9 )\n",
    "    cudaTOCPUnet = copy.deepcopy( cudanet )\n",
    "    cudaTOCPUnet.load_state_dict( tmp_state_dict )\n",
    "    cuda_test_net = copy.deepcopy(cudaTOCPUnet).to(device)\n",
    "    \n",
    "    correct = torch.tensor([0,0])\n",
    "    total   = torch.tensor([0,0])\n",
    "    \n",
    "    correct, total = correct.to(device) , total.to(device) \n",
    "        \n",
    "    loader_list = [ testloader , trainloader ]\n",
    "    with torch.no_grad():\n",
    "        for i, loader in enumerate(loader_list,0) :\n",
    "            for data in loader:\n",
    "                images, labels = data\n",
    "                images, labels = images.to(device), labels.to(device)\n",
    "                outputs = cuda_test_net(images)\n",
    "                _, predicted = torch.max(outputs.data, 1)\n",
    "                total[i] += labels.size(0)\n",
    "                correct[i] += (predicted == labels).sum()\n",
    "    \n",
    "    accuracy[epoch,:] = accuracy[epoch,:] * correct.type(torch.FloatTensor) / total.type(torch.FloatTensor)\n",
    "    \n",
    "    print('epoch %3d : Accuracy of the network on the test images: %.2f %% , training images %.2f %% ' \n",
    "              % ( epoch+1, accuracy[epoch,0] , accuracy[epoch,1] )\n",
    "         )"
   ]
  },
  {
   "cell_type": "markdown",
   "metadata": {},
   "source": [
    "Plot the train and validation errors for each of the model"
   ]
  },
  {
   "cell_type": "code",
   "execution_count": null,
   "metadata": {},
   "outputs": [],
   "source": [
    "from matplotlib.pyplot import figure\n",
    "# import warnings\n",
    "# warnings.filterwarnings('ignore')\n",
    "\n",
    "# data to plot\n",
    "n_groups = nb_epoch\n",
    "accuracy_toplot = accuracy.numpy()\n",
    "\n",
    "tests_accuracy = accuracy_toplot[:,0]\n",
    "train_accuracy = accuracy_toplot[:,1]\n",
    "\n",
    "#\n",
    "plt.rcParams.update({'font.size': 16})\n",
    "plt.rcParams[\"figure.figsize\"] = (12 ,8)\n",
    "# create plot\n",
    "fig, ax = plt.subplots()\n",
    "index = np.arange(n_groups)\n",
    "bar_width = 0.3\n",
    "opacity = 0.8\n",
    " \n",
    "rects1 = plt.bar(index, tests_accuracy, bar_width,\n",
    "                 alpha=opacity,\n",
    "                 color='g',\n",
    "                 label='Test set')\n",
    " \n",
    "rects2 = plt.bar(index + bar_width, train_accuracy, bar_width,\n",
    "                 alpha=opacity,\n",
    "                 color='r',\n",
    "                 label='Training set')\n",
    "\n",
    "eps = 3 \n",
    "top = min(int( np.ceil(accuracy_toplot.max() + eps)) , 100)\n",
    "bot = max(int(np.floor(accuracy_toplot.min() - eps)) , 0  )\n",
    "\n",
    "\n",
    "plt.ylim(bot, top)     # set the ylim to bottom, top\n",
    "plt.axhline(y=97,color=\"black\")\n",
    "\n",
    "plt.xlabel('Epoch')\n",
    "plt.ylabel('Accuracy')\n",
    "plt.title('Comparison between training set and test set accuracy \\nduring the training phase')\n",
    "plt.xticks(index + bar_width, range(1,11,1) )\n",
    "plt.yticks( range(bot,top+1,1) )\n",
    "plt.legend()\n",
    "\n",
    "# plt.tight_layout()\n",
    "plt.show()"
   ]
  },
  {
   "cell_type": "markdown",
   "metadata": {},
   "source": [
    "## Some additionnal stuff"
   ]
  },
  {
   "cell_type": "markdown",
   "metadata": {},
   "source": [
    "##### 3-best accuracy : having the right label in the net's top 3 answers count as a good answer"
   ]
  },
  {
   "cell_type": "code",
   "execution_count": 58,
   "metadata": {},
   "outputs": [
    {
     "name": "stdout",
     "output_type": "stream",
     "text": [
      "3-best Accuracy of the network on the  10000  test images: 99.920 %\n"
     ]
    }
   ],
   "source": [
    "correct = torch.tensor([0])\n",
    "total = torch.tensor([0])\n",
    "\n",
    "correct, total = correct.to(device) , total.to(device) \n",
    "with torch.no_grad():\n",
    "    for data in testloader:\n",
    "        images, labels = data\n",
    "        images, labels = images.to(device), labels.to(device)\n",
    "        outputs = cudanet(images)\n",
    "        predicted = torch.topk(outputs.data, 3)[1]\n",
    "        total += labels.size(0)\n",
    "        correct += (predicted[:,0] == labels).sum()\n",
    "        correct += (predicted[:,1] == labels).sum()\n",
    "        correct += (predicted[:,2] == labels).sum()\n",
    "\n",
    "print('3-best Accuracy of the network on the ' , testing_dataset_size , ' test images: %.3f %%' \n",
    "          % ( 100 * correct.double() / total.double())\n",
    "     )"
   ]
  },
  {
   "cell_type": "markdown",
   "metadata": {},
   "source": [
    "#### print some test sample that the net misclassifies"
   ]
  },
  {
   "cell_type": "code",
   "execution_count": 90,
   "metadata": {},
   "outputs": [
    {
     "data": {
      "image/png": "[encoded data removed]",
      "text/plain": [
       "<Figure size 864x576 with 1 Axes>"
      ]
     },
     "metadata": {
      "needs_background": "light"
     },
     "output_type": "display_data"
    },
    {
     "name": "stdout",
     "output_type": "stream",
     "text": [
      "this should be :   8, 4, 6, 9, 5, 6\n",
      "net choice # 1 :   3, 2, 0, 7, 3, 0\n",
      "net choice # 2 :   8, 4, 6, 9, 5, 6\n",
      "net choice # 3 :   2, 6, 5, 8, 8, 5\n"
     ]
    }
   ],
   "source": [
    "nb_of_error = torch.tensor([6])\n",
    "j = torch.tensor([0])\n",
    "errorimages  = torch.empty(6,1,28,28)\n",
    "errorlabels  = torch.empty(6)\n",
    "erroroutputs = torch.empty(6, 10)\n",
    "for images, labels in testloader :\n",
    "    images, labels = images.to(device), labels.to(device)\n",
    "    outputs = cudanet(images)\n",
    "    _, predicted = torch.max(outputs.data, 1)\n",
    "    if not (predicted == labels).sum() == labels.size()[0] :\n",
    "        comparison = (predicted == labels)\n",
    "        for i,b in enumerate( comparison ) :\n",
    "            if b == 0 :\n",
    "                errorimages[j,:,:,:] = copy.deepcopy(images[i,:,:,:]).cpu()\n",
    "                errorlabels[j] = labels[i].clone().detach().requires_grad_(False).cpu()\n",
    "                erroroutputs[j,:] = outputs[i,:].clone().detach().requires_grad_(False).cpu()\n",
    "                j = j + 1\n",
    "                if j.item() >= nb_of_error.item() :\n",
    "                    break\n",
    "        else :\n",
    "            continue\n",
    "        break\n",
    "        \n",
    "if j.item() == 0 :\n",
    "    print( \"no error found\")\n",
    "else :\n",
    "    imshow( torchvision.utils.make_grid(errorimages) )\n",
    "    \n",
    "    print( \"this should be : \" , \",\".join( \"%2d\" % nb.item() for nb in errorlabels ) ) \n",
    "    for i in range(3) :\n",
    "        print( \"net choice #\" , i+1 , \": \" , \",\".join( \"%2d\" % nb.item() for nb in list(torch.topk( erroroutputs, 3)[1][:,i]) ) ) "
   ]
  },
  {
   "cell_type": "markdown",
   "metadata": {},
   "source": [
    "### Save and load models"
   ]
  },
  {
   "cell_type": "markdown",
   "metadata": {},
   "source": [
    "#### Save the state_dict of the model for each epoch on a local directory"
   ]
  },
  {
   "cell_type": "code",
   "execution_count": 21,
   "metadata": {},
   "outputs": [
    {
     "name": "stdout",
     "output_type": "stream",
     "text": [
      "./save/dev1num2model_for_epoch1.pth\n",
      "./save/dev1num2model_for_epoch2.pth\n",
      "./save/dev1num2model_for_epoch3.pth\n",
      "./save/dev1num2model_for_epoch4.pth\n",
      "./save/dev1num2model_for_epoch5.pth\n",
      "./save/dev1num2model_for_epoch6.pth\n",
      "./save/dev1num2model_for_epoch7.pth\n",
      "./save/dev1num2model_for_epoch8.pth\n",
      "./save/dev1num2model_for_epoch9.pth\n",
      "./save/dev1num2model_for_epoch10.pth\n"
     ]
    }
   ],
   "source": [
    "local_path = \"./save\"\n",
    "for epoch , tmp_state_dict in enumerate(state_dict_list,1) :\n",
    "    saving_path = local_path + \"/dev1num2model_for_epoch{Epoch}.pth\".format( Epoch = epoch )\n",
    "    torch.save( tmp_state_dict , saving_path)"
   ]
  },
  {
   "cell_type": "markdown",
   "metadata": {},
   "source": [
    "#### load from file and set the load the state_dict of the last epoch on a object\n",
    "the files have to be located in \"./save\" and named \"dev1num2model_for_epoch{j}.pth\" for j from ... to ..."
   ]
  },
  {
   "cell_type": "code",
   "execution_count": 28,
   "metadata": {},
   "outputs": [
    {
     "name": "stdout",
     "output_type": "stream",
     "text": [
      "./save/dev1num2model_for_epoch1.pth\n",
      "./save/dev1num2model_for_epoch2.pth\n",
      "./save/dev1num2model_for_epoch3.pth\n",
      "./save/dev1num2model_for_epoch4.pth\n",
      "./save/dev1num2model_for_epoch5.pth\n",
      "./save/dev1num2model_for_epoch6.pth\n",
      "./save/dev1num2model_for_epoch7.pth\n",
      "./save/dev1num2model_for_epoch8.pth\n",
      "./save/dev1num2model_for_epoch9.pth\n",
      "./save/dev1num2model_for_epoch10.pth\n"
     ]
    }
   ],
   "source": [
    "local_path = \"./save\"\n",
    "state_dict_list = list()\n",
    "\n",
    "from_idx = 1\n",
    "to_idx = 10\n",
    "\n",
    "for epoch in range( from_idx  , to_idx + 1 , 1 ):\n",
    "    path = local_path + \"/dev1num2model_for_epoch{Epoch}.pth\".format( Epoch = epoch )\n",
    "    tmp_dict = torch.load(path)\n",
    "    state_dict_list.append(tmp_dict)\n",
    "    print( path )\n",
    "else : \n",
    "    cudanet = Classifier( kernel_sz = 9 )\n",
    "    cudanet.load_state_dict(tmp_dict)\n",
    "    cudanet.eval()                     "
   ]
  },
  {
   "cell_type": "code",
   "execution_count": null,
   "metadata": {},
   "outputs": [],
   "source": []
  }
 ],
 "metadata": {
  "celltoolbar": "Format de la Cellule Texte Brut",
  "kernelspec": {
   "display_name": "Python 3",
   "language": "python",
   "name": "python3"
  },
  "language_info": {
   "codemirror_mode": {
    "name": "ipython",
    "version": 3
   },
   "file_extension": ".py",
   "mimetype": "text/x-python",
   "name": "python",
   "nbconvert_exporter": "python",
   "pygments_lexer": "ipython3",
   "version": "3.6.5"
  }
 },
 "nbformat": 4,
 "nbformat_minor": 2
}
